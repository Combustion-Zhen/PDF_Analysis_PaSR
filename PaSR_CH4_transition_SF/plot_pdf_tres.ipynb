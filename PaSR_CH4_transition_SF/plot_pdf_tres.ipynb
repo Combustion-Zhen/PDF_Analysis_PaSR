{
 "cells": [
  {
   "cell_type": "markdown",
   "metadata": {},
   "source": [
    "# plot pdf of z with different $\\tau_{res}$ and fixed $\\tau_{mix}/\\tau_{res}$"
   ]
  },
  {
   "cell_type": "code",
   "execution_count": 1,
   "metadata": {},
   "outputs": [],
   "source": [
    "import os\n",
    "import subprocess\n",
    "import numpy as np\n",
    "import matplotlib.pyplot as plt\n",
    "from counterflow_file import *"
   ]
  },
  {
   "cell_type": "code",
   "execution_count": 19,
   "metadata": {},
   "outputs": [],
   "source": [
    "# parameters\n",
    "params = {}\n",
    "params['MIX'] = 'EMSTHYB'\n",
    "params['tres'] = None\n",
    "params['tmix'] = 0.2\n",
    "params['eqv'] = 1.0"
   ]
  },
  {
   "cell_type": "code",
   "execution_count": 32,
   "metadata": {},
   "outputs": [],
   "source": [
    "tau_log = np.linspace(-2.5,-3.5,3)"
   ]
  },
  {
   "cell_type": "code",
   "execution_count": 33,
   "metadata": {},
   "outputs": [],
   "source": [
    "csv_name = 'ZCTR.csv'\n",
    "\n",
    "npts = 100\n",
    "z_lb = 0\n",
    "z_ub = 0.156"
   ]
  },
  {
   "cell_type": "code",
   "execution_count": 39,
   "metadata": {},
   "outputs": [],
   "source": [
    "pdfs = np.empty([npts, len(tau_log)])\n",
    "for i, t in enumerate(tau_log):\n",
    "    params['tres'] = t\n",
    "    case_name = params2name(params)\n",
    "    \n",
    "    data = np.genfromtxt('/'.join([case_name,csv_name]),\n",
    "                         delimiter=',',\n",
    "                         names=True)\n",
    "    \n",
    "    hist, bins = np.histogram(data['Z'], \n",
    "                              bins=npts, \n",
    "                              range=(z_lb, z_ub), \n",
    "                              weights=data['R'], \n",
    "                              density=True\n",
    "                             )\n",
    "#    hist, bins = np.histogram(data['Z'], \n",
    "#                              bins=npts, \n",
    "#                              range=(z_lb, z_ub),\n",
    "#                              density=True\n",
    "#                             )    \n",
    "    pdfs[:,i] = hist"
   ]
  },
  {
   "cell_type": "code",
   "execution_count": 47,
   "metadata": {},
   "outputs": [],
   "source": [
    "# figure and axes parameters\n",
    "# total width is fixed, for one column plot\n",
    "plot_width    = 6.7\n",
    "margin_left   = 1.3\n",
    "margin_right  = 0.2\n",
    "margin_bottom = 1.0\n",
    "margin_top    = 0.1\n",
    "space_width   = 3.5\n",
    "space_height  = 0.5\n",
    "ftsize        = 7\n",
    "\n",
    "font = {'family':'serif',\n",
    "        'weight':'normal',\n",
    "        'size':ftsize}\n",
    "\n",
    "# use TEX for interpreter\n",
    "plt.rc('text',usetex=True)\n",
    "plt.rc('text.latex', preamble=[r'\\usepackage{amsmath}',r'\\usepackage{bm}'])\n",
    "# use serif font\n",
    "plt.rc('font',**font)\n",
    "\n",
    "num_cols = 1\n",
    "num_rows = 1\n",
    "\n",
    "colors = ['tab:blue','tab:green','tab:red']\n",
    "lines = ['--','-','-.']\n",
    "\n",
    "subplot_width = (plot_width\n",
    "                -margin_left\n",
    "                -margin_right\n",
    "                -(num_cols-1)*space_width)/num_cols\n",
    "subplot_height = subplot_width * 0.8\n",
    "\n",
    "plot_height = (num_rows*subplot_height\n",
    "              +margin_bottom\n",
    "              +margin_top\n",
    "              +(num_rows-1)*space_height)"
   ]
  },
  {
   "cell_type": "code",
   "execution_count": 71,
   "metadata": {},
   "outputs": [
    {
     "data": {
      "text/plain": [
       "(0, 260)"
      ]
     },
     "execution_count": 71,
     "metadata": {},
     "output_type": "execute_result"
    },
    {
     "data": {
      "image/png": "[encoded data removed]",
      "text/plain": [
       "<Figure size 189.921x149.102 with 2 Axes>"
      ]
     },
     "metadata": {},
     "output_type": "display_data"
    }
   ],
   "source": [
    "z = (bins[1:]+bins[:-1])/2\n",
    "\n",
    "# plot against tmix\n",
    "fig, ax = plt.subplots(num_rows,num_cols,sharex=True,\n",
    "                       figsize=cm2inch(plot_width,plot_height))\n",
    "\n",
    "for i, t in enumerate(tau_log):\n",
    "    ax.plot(z, pdfs[:,i],\n",
    "            c = colors[i], ls = lines[i], lw = 1.,\n",
    "            label=''.join([\n",
    "                r'$\\tau_{\\mathrm{res}}=$',\n",
    "                '{:.3g}'.format(np.power(10.,t)*1000),\n",
    "                r'$\\;\\mathrm{ms}$'])\n",
    "           )\n",
    "    \n",
    "# legend\n",
    "ax.legend(frameon=False)\n",
    "\n",
    "# limits\n",
    "ax.set_xlim([z_lb, z_ub])\n",
    "ax.set_ylim([0, 260])\n",
    "\n",
    "# labels\n",
    "ax.set_xlabel(r'$Z$')\n",
    "ax.set_ylabel(r'$\\langle\\tilde{f}_Z\\rangle$')\n",
    "\n",
    "ax.text(0.005,200,\n",
    "        ''.join([\n",
    "            'EMST-FI\\n',\n",
    "            r'$\\dfrac{\\tau_{\\mathrm{mix}}}{\\tau_{\\mathrm{res}}}=0.2$'])\n",
    "       )\n",
    "\n",
    "fig.subplots_adjust(left = margin_left/plot_width,\n",
    "                    bottom = margin_bottom/plot_height,\n",
    "                    right = 1.0-margin_right/plot_width,\n",
    "                    top = 1.0-margin_top/plot_height,\n",
    "                    wspace = space_width/plot_width,\n",
    "                    hspace = space_height/plot_height\n",
    "                    )\n",
    "\n",
    "axs = fig.add_axes([0.6, 0.32, 0.35, 0.35])\n",
    "for i, t in enumerate(tau_log):\n",
    "    axs.plot(z, pdfs[:,i],\n",
    "            c = colors[i], ls = lines[i], lw = 1.)\n",
    "\n",
    "axs.set_xlim([0.049,0.058])\n",
    "axs.set_ylim([0, 260])"
   ]
  },
  {
   "cell_type": "code",
   "execution_count": 72,
   "metadata": {},
   "outputs": [],
   "source": [
    "fig.savefig('fig_pdf_z_EMSTHYB_tres.pdf')"
   ]
  }
 ],
 "metadata": {
  "kernelspec": {
   "display_name": "Python 3",
   "language": "python",
   "name": "python3"
  },
  "language_info": {
   "codemirror_mode": {
    "name": "ipython",
    "version": 3
   },
   "file_extension": ".py",
   "mimetype": "text/x-python",
   "name": "python",
   "nbconvert_exporter": "python",
   "pygments_lexer": "ipython3",
   "version": "3.6.4"
  }
 },
 "nbformat": 4,
 "nbformat_minor": 2
}
