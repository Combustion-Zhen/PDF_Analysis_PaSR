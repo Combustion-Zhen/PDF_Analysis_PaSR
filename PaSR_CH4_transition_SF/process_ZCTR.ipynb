{
 "cells": [
  {
   "cell_type": "markdown",
   "metadata": {},
   "source": [
    "# ZCRT"
   ]
  },
  {
   "cell_type": "code",
   "execution_count": 1,
   "metadata": {},
   "outputs": [],
   "source": [
    "import cantera as ct\n",
    "import numpy as np\n",
    "import pandas as pd\n",
    "from counterflow_file import *"
   ]
  },
  {
   "cell_type": "code",
   "execution_count": 2,
   "metadata": {},
   "outputs": [],
   "source": [
    "#models = ['IEM','EMST','IEMHYB','EMSTHYB']\n",
    "models = ['IEMHYB',]\n",
    "params = {}\n",
    "params['MIX'] = None\n",
    "params['tres'] = -3.5\n",
    "params['tmix'] = 0.2\n",
    "params['eqv'] = 1.0\n",
    "\n",
    "op_name = 'pasrfull.op'"
   ]
  },
  {
   "cell_type": "code",
   "execution_count": 3,
   "metadata": {},
   "outputs": [],
   "source": [
    "Z_f = np.genfromtxt('template/flame_Z.dat',skip_header=1,usecols=(0,))\n",
    "Z_lb = np.arange(0,Z_f.min(),0.004)\n",
    "Z_ub = np.arange(Z_f.max(),0.2,0.005)\n",
    "Z_ub = np.delete(Z_ub,0)\n",
    "Z_r = np.arange(0.22,1,0.02)\n",
    "Z_bins = np.concatenate((Z_lb,Z_f,Z_ub,Z_r,[1,]))\n",
    "\n",
    "Z_mid = (Z_bins[1:]+Z_bins[:-1])/2\n",
    "num_bins = len(Z_mid)"
   ]
  },
  {
   "cell_type": "code",
   "execution_count": 4,
   "metadata": {},
   "outputs": [],
   "source": [
    "gas = ct.Solution('gri30.xml')\n",
    "element_index = np.empty([len(gas.species_names),len(gas.element_names)])\n",
    "for i, species in enumerate(gas.species_names):\n",
    "    for j, element in enumerate(gas.element_names):\n",
    "        element_index[i,j] = gas.n_atoms(species,element)"
   ]
  },
  {
   "cell_type": "code",
   "execution_count": 5,
   "metadata": {},
   "outputs": [],
   "source": [
    "# Bilger's mixture fraction\n",
    "coeff_Z = ( 2 * element_index[:,gas.element_index('C')]\n",
    "            + element_index[:,gas.element_index('H')] / 2\n",
    "            - element_index[:,gas.element_index('O')] )\n",
    "\n",
    "OXY = {'O2':1, 'N2':3.76}\n",
    "FUEL = {'CH4':1}\n",
    "\n",
    "T_OXY = 300.\n",
    "T_FUEL = 300.\n",
    "\n",
    "p = 1. * ct.one_atm\n",
    "\n",
    "# oxidizer stream\n",
    "gas.TPX = T_OXY, p, OXY\n",
    "# specific mole number\n",
    "z_OXY = gas.Y/gas.molecular_weights\n",
    "Z_OXY = np.dot(coeff_Z,z_OXY)\n",
    "\n",
    "# fuel stream\n",
    "gas.TPX = T_FUEL, p, FUEL\n",
    "# specific mole number\n",
    "z_FUEL = gas.Y/gas.molecular_weights\n",
    "Z_FUEL = np.dot(coeff_Z,z_FUEL)\n",
    "\n",
    "# coefficients for the progress variable\n",
    "C_species = ['CO2','CO','H2O','H2']\n",
    "coeff_C = np.zeros(gas.n_species)\n",
    "for spe in C_species:\n",
    "    spe_index = gas.species_index(spe)\n",
    "    coeff_C[spe_index] = gas.molecular_weights[spe_index]"
   ]
  },
  {
   "cell_type": "code",
   "execution_count": 6,
   "metadata": {},
   "outputs": [],
   "source": [
    "for model in models:\n",
    "    params['MIX'] = model\n",
    "    \n",
    "    case = params2name(params)\n",
    "\n",
    "    file_name = '/'.join([case,op_name])\n",
    "    data = np.genfromtxt(file_name)\n",
    "        \n",
    "    Z = np.dot(coeff_Z,data[:,-gas.n_species:].T)\n",
    "    Z = (Z-Z_OXY)/(Z_FUEL-Z_OXY)\n",
    "        \n",
    "    C = np.dot(coeff_C,data[:,-gas.n_species:].T)\n",
    "    \n",
    "    df = pd.DataFrame({\n",
    "            'Z':Z,\n",
    "            'C':C,\n",
    "            'T':data[:,3],\n",
    "            'R':data[:,1]})\n",
    "    \n",
    "    df.to_csv('/'.join([case,'ZCTR.csv']),index=False)"
   ]
  }
 ],
 "metadata": {
  "kernelspec": {
   "display_name": "Python 3",
   "language": "python",
   "name": "python3"
  },
  "language_info": {
   "codemirror_mode": {
    "name": "ipython",
    "version": 3
   },
   "file_extension": ".py",
   "mimetype": "text/x-python",
   "name": "python",
   "nbconvert_exporter": "python",
   "pygments_lexer": "ipython3",
   "version": "3.6.4"
  }
 },
 "nbformat": 4,
 "nbformat_minor": 2
}
