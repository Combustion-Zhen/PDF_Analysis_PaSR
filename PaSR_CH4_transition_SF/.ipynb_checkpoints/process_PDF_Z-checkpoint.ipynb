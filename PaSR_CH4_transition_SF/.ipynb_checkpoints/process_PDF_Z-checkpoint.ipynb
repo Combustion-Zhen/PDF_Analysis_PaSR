{
 "cells": [
  {
   "cell_type": "markdown",
   "metadata": {},
   "source": [
    "# calculate the density weighted PDF of Z"
   ]
  },
  {
   "cell_type": "code",
   "execution_count": 1,
   "metadata": {},
   "outputs": [],
   "source": [
    "import copy\n",
    "import numpy as np\n",
    "from counterflow_file import *\n",
    "from weighted_gaussian_kde import gaussian_kde"
   ]
  },
  {
   "cell_type": "code",
   "execution_count": 2,
   "metadata": {},
   "outputs": [],
   "source": [
    "# parameters\n",
    "#models = ['IEM','IEMHYB','EMST','EMSTHYB']\n",
    "models = ['EMST','EMSTHYB']\n",
    "params = {}\n",
    "params['MIX'] = None\n",
    "params['tres'] = -3.65\n",
    "params['tmix'] = 0.2\n",
    "params['eqv'] = 1.0\n",
    "\n",
    "csv_name = 'ZCTR.csv'\n",
    "\n",
    "npts = 500\n",
    "x_lb = 0\n",
    "x_ub = 0.16"
   ]
  },
  {
   "cell_type": "code",
   "execution_count": 3,
   "metadata": {},
   "outputs": [],
   "source": [
    "x = np.linspace(x_lb,x_ub,npts)\n",
    "pdfs = np.empty([npts, len(models)])\n",
    "for i, model in enumerate(models):\n",
    "    params['MIX'] = model\n",
    "    case_name = params2name(params)\n",
    "    \n",
    "    #data = pd.read_csv('/'.join([case_name,csv_name]))\n",
    "    #pdf = gaussian_kde(data['Z'].values, weights=data['R'].values)\n",
    "    \n",
    "    data = np.genfromtxt('/'.join([case_name,csv_name]),\n",
    "                         delimiter=',',\n",
    "                         names=True)\n",
    "    pdf = gaussian_kde(data['Z'])\n",
    "    \n",
    "    pdfs[:,i] = pdf(x)"
   ]
  },
  {
   "cell_type": "code",
   "execution_count": 4,
   "metadata": {},
   "outputs": [],
   "source": [
    "data = np.column_stack((pdfs,x))\n",
    "models.append('x')\n",
    "names = ','.join(models)\n",
    "\n",
    "file_params = copy.deepcopy(params)\n",
    "del file_params['MIX']\n",
    "del file_params['tmix']\n",
    "del file_params['eqv']\n",
    "file_name = params2name(file_params)\n",
    "\n",
    "np.savetxt('pdfs_z_{}.csv'.format(file_name),\n",
    "           data,\n",
    "           delimiter=',',\n",
    "           header=names,comments='')"
   ]
  }
 ],
 "metadata": {
  "kernelspec": {
   "display_name": "Python 3",
   "language": "python",
   "name": "python3"
  },
  "language_info": {
   "codemirror_mode": {
    "name": "ipython",
    "version": 3
   },
   "file_extension": ".py",
   "mimetype": "text/x-python",
   "name": "python",
   "nbconvert_exporter": "python",
   "pygments_lexer": "ipython3",
   "version": "3.6.4"
  }
 },
 "nbformat": 4,
 "nbformat_minor": 2
}
