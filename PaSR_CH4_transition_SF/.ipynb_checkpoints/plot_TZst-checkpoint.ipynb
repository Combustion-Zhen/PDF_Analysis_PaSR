{
 "cells": [
  {
   "cell_type": "markdown",
   "metadata": {},
   "source": [
    "# plot $\\langle T\\vert Z_{st} \\rangle$"
   ]
  },
  {
   "cell_type": "code",
   "execution_count": 2,
   "metadata": {},
   "outputs": [],
   "source": [
    "import numpy as np\n",
    "import pandas as pd\n",
    "import matplotlib.pyplot as plt\n",
    "from counterflow_file import *"
   ]
  },
  {
   "cell_type": "code",
   "execution_count": 4,
   "metadata": {},
   "outputs": [],
   "source": [
    "models = ['IEM','IEMHYB','EMST','EMSTHYB']\n",
    "modeln = ['IEM','IEM-FI','EMST','EMST-FI']\n",
    "tau_log = np.linspace(-4,-2,21)\n",
    "tau_log = np.insert( tau_log, 4, -3.65)\n",
    "Zst = 0.055"
   ]
  },
  {
   "cell_type": "code",
   "execution_count": 21,
   "metadata": {},
   "outputs": [],
   "source": [
    "params = {}\n",
    "params['MIX'] = None\n",
    "params['tres'] = None\n",
    "params['var'] = 'T'\n",
    "params['statics'] = 'avg'"
   ]
  },
  {
   "cell_type": "code",
   "execution_count": 22,
   "metadata": {},
   "outputs": [],
   "source": [
    "file_name = 'cond-CT_eqv-1.csv'\n",
    "data_raw = pd.read_csv( file_name, index_col=0 )"
   ]
  },
  {
   "cell_type": "code",
   "execution_count": 23,
   "metadata": {},
   "outputs": [
    {
     "name": "stdout",
     "output_type": "stream",
     "text": [
      "MIX-IEM_tres--4_var-T_statics-avg\n",
      "MIX-IEM_tres--3.9_var-T_statics-avg\n",
      "MIX-IEM_tres--3.8_var-T_statics-avg\n",
      "MIX-IEM_tres--3.7_var-T_statics-avg\n",
      "MIX-IEM_tres--3.65_var-T_statics-avg\n",
      "MIX-IEM_tres--3.6_var-T_statics-avg\n",
      "MIX-IEM_tres--3.5_var-T_statics-avg\n",
      "MIX-IEM_tres--3.4_var-T_statics-avg\n",
      "MIX-IEM_tres--3.3_var-T_statics-avg\n",
      "MIX-IEM_tres--3.2_var-T_statics-avg\n",
      "MIX-IEM_tres--3.1_var-T_statics-avg\n",
      "MIX-IEM_tres--3_var-T_statics-avg\n",
      "MIX-IEM_tres--2.9_var-T_statics-avg\n",
      "MIX-IEM_tres--2.8_var-T_statics-avg\n",
      "MIX-IEM_tres--2.7_var-T_statics-avg\n",
      "MIX-IEM_tres--2.6_var-T_statics-avg\n",
      "MIX-IEM_tres--2.5_var-T_statics-avg\n",
      "MIX-IEM_tres--2.4_var-T_statics-avg\n",
      "MIX-IEM_tres--2.3_var-T_statics-avg\n",
      "MIX-IEM_tres--2.2_var-T_statics-avg\n",
      "MIX-IEM_tres--2.1_var-T_statics-avg\n",
      "MIX-IEM_tres--2_var-T_statics-avg\n",
      "MIX-IEMHYB_tres--4_var-T_statics-avg\n",
      "MIX-IEMHYB_tres--3.9_var-T_statics-avg\n",
      "MIX-IEMHYB_tres--3.8_var-T_statics-avg\n",
      "MIX-IEMHYB_tres--3.7_var-T_statics-avg\n",
      "MIX-IEMHYB_tres--3.65_var-T_statics-avg\n",
      "MIX-IEMHYB_tres--3.6_var-T_statics-avg\n",
      "MIX-IEMHYB_tres--3.5_var-T_statics-avg\n",
      "MIX-IEMHYB_tres--3.4_var-T_statics-avg\n",
      "MIX-IEMHYB_tres--3.3_var-T_statics-avg\n",
      "MIX-IEMHYB_tres--3.2_var-T_statics-avg\n",
      "MIX-IEMHYB_tres--3.1_var-T_statics-avg\n",
      "MIX-IEMHYB_tres--3_var-T_statics-avg\n",
      "MIX-IEMHYB_tres--2.9_var-T_statics-avg\n",
      "MIX-IEMHYB_tres--2.8_var-T_statics-avg\n",
      "MIX-IEMHYB_tres--2.7_var-T_statics-avg\n",
      "MIX-IEMHYB_tres--2.6_var-T_statics-avg\n",
      "MIX-IEMHYB_tres--2.5_var-T_statics-avg\n",
      "MIX-IEMHYB_tres--2.4_var-T_statics-avg\n",
      "MIX-IEMHYB_tres--2.3_var-T_statics-avg\n",
      "MIX-IEMHYB_tres--2.2_var-T_statics-avg\n",
      "MIX-IEMHYB_tres--2.1_var-T_statics-avg\n",
      "MIX-IEMHYB_tres--2_var-T_statics-avg\n",
      "MIX-EMST_tres--4_var-T_statics-avg\n",
      "MIX-EMST_tres--3.9_var-T_statics-avg\n",
      "MIX-EMST_tres--3.8_var-T_statics-avg\n",
      "MIX-EMST_tres--3.7_var-T_statics-avg\n",
      "MIX-EMST_tres--3.65_var-T_statics-avg\n",
      "MIX-EMST_tres--3.6_var-T_statics-avg\n",
      "MIX-EMST_tres--3.5_var-T_statics-avg\n",
      "MIX-EMST_tres--3.4_var-T_statics-avg\n",
      "MIX-EMST_tres--3.3_var-T_statics-avg\n",
      "MIX-EMST_tres--3.2_var-T_statics-avg\n",
      "MIX-EMST_tres--3.1_var-T_statics-avg\n",
      "MIX-EMST_tres--3_var-T_statics-avg\n",
      "MIX-EMST_tres--2.9_var-T_statics-avg\n",
      "MIX-EMST_tres--2.8_var-T_statics-avg\n",
      "MIX-EMST_tres--2.7_var-T_statics-avg\n",
      "MIX-EMST_tres--2.6_var-T_statics-avg\n",
      "MIX-EMST_tres--2.5_var-T_statics-avg\n",
      "MIX-EMST_tres--2.4_var-T_statics-avg\n",
      "MIX-EMST_tres--2.3_var-T_statics-avg\n",
      "MIX-EMST_tres--2.2_var-T_statics-avg\n",
      "MIX-EMST_tres--2.1_var-T_statics-avg\n",
      "MIX-EMST_tres--2_var-T_statics-avg\n",
      "MIX-EMSTHYB_tres--4_var-T_statics-avg\n",
      "MIX-EMSTHYB_tres--3.9_var-T_statics-avg\n",
      "MIX-EMSTHYB_tres--3.8_var-T_statics-avg\n",
      "MIX-EMSTHYB_tres--3.7_var-T_statics-avg\n",
      "MIX-EMSTHYB_tres--3.65_var-T_statics-avg\n",
      "MIX-EMSTHYB_tres--3.6_var-T_statics-avg\n",
      "MIX-EMSTHYB_tres--3.5_var-T_statics-avg\n",
      "MIX-EMSTHYB_tres--3.4_var-T_statics-avg\n",
      "MIX-EMSTHYB_tres--3.3_var-T_statics-avg\n",
      "MIX-EMSTHYB_tres--3.2_var-T_statics-avg\n",
      "MIX-EMSTHYB_tres--3.1_var-T_statics-avg\n",
      "MIX-EMSTHYB_tres--3_var-T_statics-avg\n",
      "MIX-EMSTHYB_tres--2.9_var-T_statics-avg\n",
      "MIX-EMSTHYB_tres--2.8_var-T_statics-avg\n",
      "MIX-EMSTHYB_tres--2.7_var-T_statics-avg\n",
      "MIX-EMSTHYB_tres--2.6_var-T_statics-avg\n",
      "MIX-EMSTHYB_tres--2.5_var-T_statics-avg\n",
      "MIX-EMSTHYB_tres--2.4_var-T_statics-avg\n",
      "MIX-EMSTHYB_tres--2.3_var-T_statics-avg\n",
      "MIX-EMSTHYB_tres--2.2_var-T_statics-avg\n",
      "MIX-EMSTHYB_tres--2.1_var-T_statics-avg\n",
      "MIX-EMSTHYB_tres--2_var-T_statics-avg\n"
     ]
    }
   ],
   "source": [
    "data = np.empty( [ tau_log.size, len(models) ] )\n",
    "for j, model in enumerate(models):\n",
    "    params['MIX'] = model\n",
    "    for i, t in enumerate(tau_log):\n",
    "        params['tres'] = t\n",
    "        \n",
    "        data_name = params2name( params )\n",
    "        data[i,j] = np.interp(Zst,\n",
    "                              data_raw['Z'],\n",
    "                              data_raw[data_name])"
   ]
  },
  {
   "cell_type": "code",
   "execution_count": 12,
   "metadata": {},
   "outputs": [
    {
     "data": {
      "text/plain": [
       "0.06120551254608049"
      ]
     },
     "execution_count": 12,
     "metadata": {},
     "output_type": "execute_result"
    }
   ],
   "source": [
    "np.interp(Zst,data['Z'],data['MIX-IEM_tres--3_var-C_statics-avg'])"
   ]
  }
 ],
 "metadata": {
  "kernelspec": {
   "display_name": "Python 3",
   "language": "python",
   "name": "python3"
  },
  "language_info": {
   "codemirror_mode": {
    "name": "ipython",
    "version": 3
   },
   "file_extension": ".py",
   "mimetype": "text/x-python",
   "name": "python",
   "nbconvert_exporter": "python",
   "pygments_lexer": "ipython3",
   "version": "3.6.4"
  }
 },
 "nbformat": 4,
 "nbformat_minor": 2
}
