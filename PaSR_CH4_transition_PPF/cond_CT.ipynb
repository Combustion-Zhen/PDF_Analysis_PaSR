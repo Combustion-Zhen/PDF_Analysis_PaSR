{
 "cells": [
  {
   "cell_type": "markdown",
   "metadata": {},
   "source": [
    "# get the particle information with assistance of cantera"
   ]
  },
  {
   "cell_type": "code",
   "execution_count": 1,
   "metadata": {},
   "outputs": [],
   "source": [
    "import cantera as ct\n",
    "import numpy as np\n",
    "import pandas as pd\n",
    "import matplotlib.pyplot as plt\n",
    "from counterflow_file import *\n",
    "\n",
    "def weighted_avg_and_var(values, weights):\n",
    "    \"\"\"\n",
    "    Return the weighted average and standard deviation.\n",
    "\n",
    "    values, weights -- Numpy ndarrays with the same shape.\n",
    "    \"\"\"\n",
    "    average = np.average(values, weights=weights)\n",
    "    # Fast and numerically precise:\n",
    "    variance = np.average((values-average)**2, weights=weights)\n",
    "    return {'avg':average, 'var':variance}"
   ]
  },
  {
   "cell_type": "code",
   "execution_count": 2,
   "metadata": {},
   "outputs": [],
   "source": [
    "models = ['IEM','EMST','IEMHYB','EMSTHYB']\n",
    "mix_res_ratio = [0.02, 0.035, 0.06, 0.1, 0.15, 0.2, 0.3, 0.4, 0.5]\n",
    "\n",
    "params = {}\n",
    "params['MIX'] = None\n",
    "params['tres'] = 1.e-2\n",
    "params['tmix'] = None\n",
    "params['eqv'] = 1.2\n",
    "params['Zfvar'] = 0.1\n",
    "params['dtmix'] = 0.01\n",
    "params['phif'] = 4.76\n",
    "\n",
    "op_name = 'pasrfull.op'\n",
    "\n",
    "data_params = {}\n",
    "data_params['MIX'] = None\n",
    "data_params['tmix'] = None\n",
    "data_params['var'] = None\n",
    "data_params['statics'] = None"
   ]
  },
  {
   "cell_type": "code",
   "execution_count": 3,
   "metadata": {},
   "outputs": [],
   "source": [
    "Z_f = np.genfromtxt('template/flame_Z.dat',skip_header=1,usecols=(0,))\n",
    "Z_lb = np.arange(0,Z_f.min(),0.004)\n",
    "Z_ub = np.arange(Z_f.max(),0.2,0.005)\n",
    "Z_ub = np.delete(Z_ub,0)\n",
    "Z_r = np.arange(0.22,1,0.02)\n",
    "Z_bins = np.concatenate((Z_lb,Z_f,Z_ub,Z_r,[1,]))\n",
    "\n",
    "Z_mid = (Z_bins[1:]+Z_bins[:-1])/2\n",
    "num_bins = len(Z_mid)"
   ]
  },
  {
   "cell_type": "code",
   "execution_count": 4,
   "metadata": {},
   "outputs": [],
   "source": [
    "gas = ct.Solution('gri30.xml')\n",
    "element_index = np.empty([len(gas.species_names),len(gas.element_names)])\n",
    "for i, species in enumerate(gas.species_names):\n",
    "    for j, element in enumerate(gas.element_names):\n",
    "        element_index[i,j] = gas.n_atoms(species,element)"
   ]
  },
  {
   "cell_type": "code",
   "execution_count": 5,
   "metadata": {},
   "outputs": [
    {
     "data": {
      "text/plain": [
       "0.055186324560485174"
      ]
     },
     "execution_count": 5,
     "metadata": {},
     "output_type": "execute_result"
    }
   ],
   "source": [
    "# Bilger's mixture fraction\n",
    "coeff_Z = ( 2 * element_index[:,gas.element_index('C')]\n",
    "            + element_index[:,gas.element_index('H')] / 2\n",
    "            - element_index[:,gas.element_index('O')] )\n",
    "\n",
    "OXY = {'O2':1, 'N2':3.76}\n",
    "FUEL = {'CH4':1}\n",
    "\n",
    "T_OXY = 300.\n",
    "T_FUEL = 300.\n",
    "\n",
    "p = 1. * ct.one_atm\n",
    "\n",
    "# oxidizer stream\n",
    "gas.TPX = T_OXY, p, OXY\n",
    "# specific mole number\n",
    "z_OXY = gas.Y/gas.molecular_weights\n",
    "Z_OXY = np.dot(coeff_Z,z_OXY)\n",
    "\n",
    "# fuel stream\n",
    "gas.TPX = T_FUEL, p, FUEL\n",
    "# specific mole number\n",
    "z_FUEL = gas.Y/gas.molecular_weights\n",
    "Z_FUEL = np.dot(coeff_Z,z_FUEL)\n",
    "\n",
    "# coefficients for the progress variable\n",
    "C_species = ['CO2','CO','H2O','H2']\n",
    "coeff_C = np.zeros(gas.n_species)\n",
    "for spe in C_species:\n",
    "    spe_index = gas.species_index(spe)\n",
    "    coeff_C[spe_index] = gas.molecular_weights[spe_index]\n",
    "    \n",
    "gas.TPX = T_OXY, p, {'CH4':1,'O2':2,'N2':3.76*2}\n",
    "z_mix = gas.Y/gas.molecular_weights\n",
    "Z_mix = np.dot(coeff_Z,z_mix)\n",
    "Z_st = (Z_mix-Z_OXY)/(Z_FUEL-Z_OXY)\n",
    "Z_st"
   ]
  },
  {
   "cell_type": "code",
   "execution_count": 6,
   "metadata": {},
   "outputs": [],
   "source": [
    "df = pd.DataFrame(Z_mid,index=np.arange(1,num_bins+1),columns=['Z',])\n",
    "# obtain data\n",
    "# time, density, pressue/one_atm, temperature, sensible enthalpy, specific mole number\n",
    "for model in models:\n",
    "    params['MIX'] = model\n",
    "    data_params['MIX'] = model\n",
    "    for tmix in mix_res_ratio:\n",
    "        params['tmix'] = tmix\n",
    "        data_params['tmix'] = tmix\n",
    "        \n",
    "        case = params2name(params)\n",
    "\n",
    "        file_name = '/'.join([case,op_name])\n",
    "        data = np.genfromtxt(file_name)\n",
    "        \n",
    "        Z = np.dot(coeff_Z,data[:,-gas.n_species:].T)\n",
    "        Z = (Z-Z_OXY)/(Z_FUEL-Z_OXY)\n",
    "        \n",
    "        C = np.dot(coeff_C,data[:,-gas.n_species:].T)\n",
    "        \n",
    "        df_tmp = pd.DataFrame({\n",
    "            'Z':Z,\n",
    "            'C':C,\n",
    "            'T':data[:,3],\n",
    "            'R':data[:,1],\n",
    "            'B':np.digitize(Z,Z_bins)}).groupby('B')\n",
    "        \n",
    "        for var in list('CT'):\n",
    "            data_params['var'] = var\n",
    "\n",
    "            data_tmp = df_tmp.apply(lambda x: weighted_avg_and_var(x[var],x['R']))\n",
    "            \n",
    "            for statics in ['avg','var']:\n",
    "                data_params['statics'] = statics\n",
    "                data_name = params2name(data_params)\n",
    "\n",
    "                s_tmp = np.array([x[statics] for x in data_tmp.values])\n",
    "                df_new = pd.DataFrame(\n",
    "                        s_tmp,\n",
    "                        index=data_tmp.index,\n",
    "                        columns=[data_name,])\n",
    "            \n",
    "                df = df.combine_first(df_new)\n",
    "\n",
    "df.to_csv('cond-CT_eqv-{:g}.csv'.format(params['eqv']),index=False)"
   ]
  }
 ],
 "metadata": {
  "kernelspec": {
   "display_name": "Python 3",
   "language": "python",
   "name": "python3"
  },
  "language_info": {
   "codemirror_mode": {
    "name": "ipython",
    "version": 3
   },
   "file_extension": ".py",
   "mimetype": "text/x-python",
   "name": "python",
   "nbconvert_exporter": "python",
   "pygments_lexer": "ipython3",
   "version": "3.6.4"
  }
 },
 "nbformat": 4,
 "nbformat_minor": 2
}
