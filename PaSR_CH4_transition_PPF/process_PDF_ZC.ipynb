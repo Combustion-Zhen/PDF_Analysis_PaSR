{
 "cells": [
  {
   "cell_type": "markdown",
   "metadata": {},
   "source": [
    "# calculate the density weighted joint PDF of Z, C"
   ]
  },
  {
   "cell_type": "code",
   "execution_count": 2,
   "metadata": {},
   "outputs": [],
   "source": [
    "import copy\n",
    "import numpy as np\n",
    "import matplotlib.pyplot as plt\n",
    "from counterflow_file import *\n",
    "from weighted_gaussian_kde import gaussian_kde"
   ]
  },
  {
   "cell_type": "code",
   "execution_count": 3,
   "metadata": {},
   "outputs": [],
   "source": [
    "# parameters\n",
    "#models = ['IEM','IEMHYB','EMST','EMSTHYB']\n",
    "models = ['EMSTHYB',]\n",
    "params = {}\n",
    "params['MIX'] = None\n",
    "params['tres'] = 1.e-2\n",
    "params['tmix'] = 0.2\n",
    "params['eqv'] = 1.0\n",
    "params['Zfvar'] = 0.1\n",
    "params['dtmix'] = 0.01\n",
    "params['phif'] = 4.76\n",
    "\n",
    "csv_name = 'ZCTR.csv'\n",
    "\n",
    "c_lb = 0\n",
    "c_ub = 0.3\n",
    "c_npts = 301\n",
    "\n",
    "z_lb = 0\n",
    "z_ub = 0.3\n",
    "z_npts = 301\n",
    "\n",
    "# points per step\n",
    "pts = 10\n",
    "\n",
    "c_all = np.linspace(c_lb, c_ub, c_npts)\n",
    "z_all = np.linspace(z_lb, z_ub, z_npts)\n",
    "v_all = np.zeros((len(c_all),len(z_all)))"
   ]
  },
  {
   "cell_type": "code",
   "execution_count": 4,
   "metadata": {},
   "outputs": [],
   "source": [
    "for i, model in enumerate(models):\n",
    "    params['MIX'] = model\n",
    "    case_name = params2name(params)\n",
    "    \n",
    "    data = np.genfromtxt('/'.join([case_name,csv_name]),\n",
    "                         delimiter=',',\n",
    "                         names=True)\n",
    "    \n",
    "    zc = np.column_stack((data['Z'],data['C']))\n",
    "    pdf = gaussian_kde(zc.transpose(), weights=data['R'])\n",
    "    \n",
    "    for j in range(z_npts//pts):\n",
    "        z = z_all[ j*pts : (j+1)*pts ]\n",
    "        for k in range(c_npts//pts):\n",
    "            c = c_all[ k*pts : (k+1)*pts ]\n",
    "            \n",
    "            zm, cm = np.meshgrid(z, c)\n",
    "            \n",
    "            v = pdf((np.ravel(zm), np.ravel(cm)))\n",
    "            v = np.reshape(v, zm.shape)\n",
    "            \n",
    "            v_all[k*pts:(k+1)*pts,j*pts:(j+1)*pts] = v\n",
    "            \n",
    "    file_name = 'pdf_zc_z-{0:g}-{1:g}_c-{2:g}-{3:g}.csv'.format(\n",
    "        z_lb, z_ub, c_lb, c_ub)\n",
    "    np.savetxt('/'.join([case_name, file_name]),v_all)"
   ]
  }
 ],
 "metadata": {
  "kernelspec": {
   "display_name": "Python 3",
   "language": "python",
   "name": "python3"
  },
  "language_info": {
   "codemirror_mode": {
    "name": "ipython",
    "version": 3
   },
   "file_extension": ".py",
   "mimetype": "text/x-python",
   "name": "python",
   "nbconvert_exporter": "python",
   "pygments_lexer": "ipython3",
   "version": "3.6.4"
  }
 },
 "nbformat": 4,
 "nbformat_minor": 2
}
