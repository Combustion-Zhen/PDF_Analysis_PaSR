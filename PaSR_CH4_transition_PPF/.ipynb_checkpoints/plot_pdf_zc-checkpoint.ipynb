{
 "cells": [
  {
   "cell_type": "markdown",
   "metadata": {},
   "source": [
    "# plot the weighted joint pdf of z, c"
   ]
  },
  {
   "cell_type": "code",
   "execution_count": 1,
   "metadata": {},
   "outputs": [],
   "source": [
    "import numpy as np\n",
    "import matplotlib.pyplot as plt\n",
    "from counterflow_file import *"
   ]
  },
  {
   "cell_type": "code",
   "execution_count": null,
   "metadata": {},
   "outputs": [],
   "source": [
    "# parameters\n",
    "#models = ['IEM','IEMHYB','EMST','EMSTHYB']\n",
    "\n",
    "params = {}\n",
    "params['MIX'] = 'IEM'\n",
    "params['tres'] = 1.e-2\n",
    "params['tmix'] = 0.2\n",
    "params['eqv'] = 1.0\n",
    "params['Zfvar'] = 0.1\n",
    "params['dtmix'] = 0.01\n",
    "params['phif'] = 4.76\n",
    "\n",
    "csv_name = 'ZCTR.csv'\n",
    "\n",
    "c_lb = 0\n",
    "c_ub = 0.3\n",
    "c_npts = 301\n",
    "\n",
    "z_lb = 0\n",
    "z_ub = 0.3\n",
    "z_npts = 301\n",
    "\n",
    "# points per step\n",
    "pts = 10\n",
    "\n",
    "c_all = np.linspace(c_lb, c_ub, c_npts)\n",
    "z_all = np.linspace(z_lb, z_ub, z_npts)\n",
    "v_all = np.zeros((len(c_all),len(z_all)))"
   ]
  }
 ],
 "metadata": {
  "kernelspec": {
   "display_name": "Python 3",
   "language": "python",
   "name": "python3"
  },
  "language_info": {
   "codemirror_mode": {
    "name": "ipython",
    "version": 3
   },
   "file_extension": ".py",
   "mimetype": "text/x-python",
   "name": "python",
   "nbconvert_exporter": "python",
   "pygments_lexer": "ipython3",
   "version": "3.6.4"
  }
 },
 "nbformat": 4,
 "nbformat_minor": 2
}
