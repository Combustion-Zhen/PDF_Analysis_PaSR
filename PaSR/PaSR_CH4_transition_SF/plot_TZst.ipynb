{
 "cells": [
  {
   "cell_type": "markdown",
   "metadata": {},
   "source": [
    "# plot $\\langle T\\vert Z_{st} \\rangle$"
   ]
  },
  {
   "cell_type": "code",
   "execution_count": 2,
   "metadata": {},
   "outputs": [],
   "source": [
    "import numpy as np\n",
    "import pandas as pd\n",
    "import matplotlib.pyplot as plt\n",
    "from counterflow_file import *"
   ]
  },
  {
   "cell_type": "code",
   "execution_count": 4,
   "metadata": {},
   "outputs": [],
   "source": [
    "models = ['IEM','IEMHYB','EMST','EMSTHYB']\n",
    "modeln = ['IEM','IEM-FI','EMST','EMST-FI']\n",
    "tau_log = np.linspace(-4,-2,21)\n",
    "tau_log = np.insert( tau_log, 4, -3.65)\n",
    "Zst = 0.055"
   ]
  },
  {
   "cell_type": "code",
   "execution_count": 34,
   "metadata": {},
   "outputs": [],
   "source": [
    "params = {}\n",
    "params['MIX'] = None\n",
    "params['tres'] = None\n",
    "params['var'] = 'T'\n",
    "params['statics'] = 'avg'"
   ]
  },
  {
   "cell_type": "code",
   "execution_count": 35,
   "metadata": {},
   "outputs": [],
   "source": [
    "file_name = 'cond-CT_eqv-1.csv'\n",
    "data_raw = pd.read_csv( file_name, index_col=0 )"
   ]
  },
  {
   "cell_type": "code",
   "execution_count": 36,
   "metadata": {},
   "outputs": [],
   "source": [
    "data = np.empty( [ tau_log.size, len(models) ] )\n",
    "for j, model in enumerate(models):\n",
    "    params['MIX'] = model\n",
    "    for i, t in enumerate(tau_log):\n",
    "        params['tres'] = t\n",
    "        \n",
    "        data_name = params2name( params )\n",
    "        data[i,j] = np.interp(Zst,\n",
    "                              data_raw['Z'],\n",
    "                              data_raw[data_name])"
   ]
  },
  {
   "cell_type": "code",
   "execution_count": 37,
   "metadata": {},
   "outputs": [],
   "source": [
    "# figure and axes parameters\n",
    "# total width is fixed, for one column plot\n",
    "plot_width    = 6.7\n",
    "margin_left   = 1.3\n",
    "margin_right  = 0.2\n",
    "margin_bottom = 1.0\n",
    "margin_top    = 0.1\n",
    "space_width   = 3.5\n",
    "space_height  = 0.5\n",
    "ftsize        = 7\n",
    "\n",
    "font = {'family':'serif',\n",
    "        'weight':'normal',\n",
    "        'size':ftsize}\n",
    "\n",
    "# use TEX for interpreter\n",
    "plt.rc('text',usetex=True)\n",
    "# use serif font\n",
    "plt.rc('font',**font)\n",
    "\n",
    "num_cols = 1\n",
    "num_rows = 1\n",
    "\n",
    "colors = ['tab:orange','tab:blue','tab:green','tab:red']\n",
    "\n",
    "mft = ['o','s']\n",
    "mfc = ['w',None]\n",
    "\n",
    "dst = '.'\n",
    "\n",
    "subplot_width = (plot_width\n",
    "                -margin_left\n",
    "                -margin_right\n",
    "                -(num_cols-1)*space_width)/num_cols\n",
    "subplot_height = subplot_width * 0.8\n",
    "\n",
    "plot_height = (num_rows*subplot_height\n",
    "              +margin_bottom\n",
    "              +margin_top\n",
    "              +(num_rows-1)*space_height)"
   ]
  },
  {
   "cell_type": "code",
   "execution_count": 38,
   "metadata": {},
   "outputs": [
    {
     "data": {
      "image/png": "[encoded data removed]",
      "text/plain": [
       "<Figure size 189.921x149.102 with 1 Axes>"
      ]
     },
     "metadata": {},
     "output_type": "display_data"
    }
   ],
   "source": [
    "# plot against tmix\n",
    "fig, ax = plt.subplots(num_rows,num_cols,sharex=True,\n",
    "                       figsize=cm2inch(plot_width,plot_height))\n",
    "\n",
    "for j, model in enumerate(modeln):\n",
    "    ax.plot(\n",
    "            np.power(10,tau_log),data[:,j],\n",
    "            c=colors[j],ls='',\n",
    "            marker=mft[j//2],ms=4,mew=0.5,\n",
    "            label=model)\n",
    "\n",
    "# axis limits and ticks\n",
    "ax.set_xscale('log')\n",
    "\n",
    "# legend\n",
    "ax.legend(frameon=False)\n",
    "\n",
    "# labels\n",
    "ax.set_xlabel(r'$\\tau_{\\mathrm{res}}\\;(\\mathrm{s})$')\n",
    "ax.set_ylabel(r'$\\langle T\\vert Z_{st} \\rangle\\;(\\mathrm{K})$')\n",
    "\n",
    "fig.subplots_adjust(left = margin_left/plot_width,\n",
    "                    bottom = margin_bottom/plot_height,\n",
    "                    right = 1.0-margin_right/plot_width,\n",
    "                    top = 1.0-margin_top/plot_height,\n",
    "                    wspace = space_width/plot_width,\n",
    "                    hspace = space_height/plot_height\n",
    "                    )"
   ]
  },
  {
   "cell_type": "code",
   "execution_count": 39,
   "metadata": {},
   "outputs": [],
   "source": [
    "fig.savefig('fig_TZst.pdf')"
   ]
  }
 ],
 "metadata": {
  "kernelspec": {
   "display_name": "Python 3",
   "language": "python",
   "name": "python3"
  },
  "language_info": {
   "codemirror_mode": {
    "name": "ipython",
    "version": 3
   },
   "file_extension": ".py",
   "mimetype": "text/x-python",
   "name": "python",
   "nbconvert_exporter": "python",
   "pygments_lexer": "ipython3",
   "version": "3.6.4"
  }
 },
 "nbformat": 4,
 "nbformat_minor": 2
}
