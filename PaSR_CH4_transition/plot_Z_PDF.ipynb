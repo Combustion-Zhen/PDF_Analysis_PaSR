{
 "cells": [
  {
   "cell_type": "markdown",
   "metadata": {},
   "source": [
    "# plot PDF of Z"
   ]
  },
  {
   "cell_type": "code",
   "execution_count": 1,
   "metadata": {},
   "outputs": [],
   "source": [
    "import numpy as np\n",
    "import matplotlib.pyplot as plt\n",
    "from counterflow_file import *"
   ]
  },
  {
   "cell_type": "code",
   "execution_count": 2,
   "metadata": {},
   "outputs": [],
   "source": [
    "# parameters\n",
    "models = ['IEM','IEMHYB','EMST','EMSTHYB']\n",
    "modeln = ['IEM','IEM-FI','EMST','EMST-FI']\n",
    "\n",
    "tres = 0.01\n",
    "Zfvar = 0.1\n",
    "\n",
    "params = {}\n",
    "params['tmix'] = 0.4\n",
    "params['eqv'] = 1.0\n",
    "\n",
    "case_name = params2name(params)"
   ]
  },
  {
   "cell_type": "code",
   "execution_count": 3,
   "metadata": {},
   "outputs": [],
   "source": [
    "file_name = 'pdfs_z_{}.csv'.format(case_name)\n",
    "data = np.genfromtxt(file_name, names=True, delimiter=',')"
   ]
  },
  {
   "cell_type": "code",
   "execution_count": 4,
   "metadata": {},
   "outputs": [],
   "source": [
    "# figure and axes parameters\n",
    "# total width is fixed, for one column plot\n",
    "plot_width    = 6.7\n",
    "margin_left   = 1.3\n",
    "margin_right  = 0.2\n",
    "margin_bottom = 1.0\n",
    "margin_top    = 0.1\n",
    "space_width   = 3.5\n",
    "space_height  = 0.5\n",
    "ftsize        = 7\n",
    "\n",
    "font = {'family':'serif',\n",
    "        'weight':'normal',\n",
    "        'size':ftsize}\n",
    "\n",
    "# use TEX for interpreter\n",
    "plt.rc('text',usetex=True)\n",
    "# use serif font\n",
    "plt.rc('font',**font)\n",
    "\n",
    "num_cols = 1\n",
    "num_rows = 1\n",
    "\n",
    "colors = ['tab:orange','tab:blue','tab:green','tab:red']\n",
    "lines = [':','-','-.','--']\n",
    "\n",
    "subplot_width = (plot_width\n",
    "                -margin_left\n",
    "                -margin_right\n",
    "                -(num_cols-1)*space_width)/num_cols\n",
    "subplot_height = subplot_width * 0.8\n",
    "\n",
    "plot_height = (num_rows*subplot_height\n",
    "              +margin_bottom\n",
    "              +margin_top\n",
    "              +(num_rows-1)*space_height)"
   ]
  },
  {
   "cell_type": "code",
   "execution_count": 7,
   "metadata": {},
   "outputs": [
    {
     "data": {
      "text/plain": [
       "(0, 6)"
      ]
     },
     "execution_count": 7,
     "metadata": {},
     "output_type": "execute_result"
    },
    {
     "data": {
      "image/png": "[encoded data removed]",
      "text/plain": [
       "<Figure size 189.921x149.102 with 2 Axes>"
      ]
     },
     "metadata": {},
     "output_type": "display_data"
    }
   ],
   "source": [
    "# plot against tmix\n",
    "fig, ax = plt.subplots(num_rows,num_cols,sharex=True,\n",
    "                       figsize=cm2inch(plot_width,plot_height))\n",
    "\n",
    "for i, model in enumerate(models):\n",
    "    ax.plot(data['x'],data[model],\n",
    "            c = colors[i], ls = lines[i], lw = 1.,\n",
    "            label=model)\n",
    "    \n",
    "# legend\n",
    "ax.legend(frameon=False)\n",
    "\n",
    "# limits\n",
    "ax.set_xlim([0, 0.21])\n",
    "ax.set_ylim([0, 55])\n",
    "\n",
    "# labels\n",
    "ax.set_xlabel(r'$Z$')\n",
    "ax.set_ylabel(r'$\\langle\\tilde{f}_Z\\rangle$')\n",
    "\n",
    "# notes\n",
    "ax.text(\n",
    "        0.03,35,\n",
    "        ''.join([\n",
    "            r'$\\tau_{\\mathrm{res}}\\,=\\,$',\n",
    "            '{:g}'.format(tres),\n",
    "            '$\\;\\mathrm{s}$',\n",
    "            '\\n',\n",
    "            r'$\\tau_{\\mathrm{mix}}\\!=\\,$',\n",
    "            '{:g}'.format(tres*params['tmix']*1000),\n",
    "            '$\\;\\mathrm{ms}$',\n",
    "            '\\n',\n",
    "            r'$\\varphi\\quad\\;\\!=\\,$',\n",
    "            '{:g}'.format(params['eqv']),\n",
    "            '\\n',\n",
    "            r'$\\eta_{Z,r}\\!\\!\\:=\\,$',\n",
    "            '{:g}'.format(Zfvar)]))\n",
    "\n",
    "fig.subplots_adjust(left = margin_left/plot_width,\n",
    "                    bottom = margin_bottom/plot_height,\n",
    "                    right = 1.0-margin_right/plot_width,\n",
    "                    top = 1.0-margin_top/plot_height,\n",
    "                    wspace = space_width/plot_width,\n",
    "                    hspace = space_height/plot_height\n",
    "                    )\n",
    "\n",
    "axs = fig.add_axes([0.57, 0.35, 0.35, 0.3])\n",
    "for i, model in enumerate(models[2:]):\n",
    "    axs.plot(data['x'],data[model],\n",
    "            c = colors[i+2], ls = lines[i+2], lw = 1.,\n",
    "            label=model)\n",
    "\n",
    "axs.set_xlim([0,0.1])\n",
    "axs.set_ylim([0,6])"
   ]
  },
  {
   "cell_type": "code",
   "execution_count": 8,
   "metadata": {},
   "outputs": [],
   "source": [
    "fig.savefig('fig_pdf_z_{}.pdf'.format(case_name))"
   ]
  }
 ],
 "metadata": {
  "kernelspec": {
   "display_name": "Python 3",
   "language": "python",
   "name": "python3"
  },
  "language_info": {
   "codemirror_mode": {
    "name": "ipython",
    "version": 3
   },
   "file_extension": ".py",
   "mimetype": "text/x-python",
   "name": "python",
   "nbconvert_exporter": "python",
   "pygments_lexer": "ipython3",
   "version": "3.6.4"
  }
 },
 "nbformat": 4,
 "nbformat_minor": 2
}
