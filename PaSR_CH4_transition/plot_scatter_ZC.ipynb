{
 "cells": [
  {
   "cell_type": "markdown",
   "metadata": {},
   "source": [
    "# plot scattering of c vs. Z"
   ]
  },
  {
   "cell_type": "code",
   "execution_count": 19,
   "metadata": {},
   "outputs": [],
   "source": [
    "import copy\n",
    "import numpy as np\n",
    "import matplotlib.pyplot as plt\n",
    "from counterflow_file import *"
   ]
  },
  {
   "cell_type": "code",
   "execution_count": 2,
   "metadata": {},
   "outputs": [],
   "source": [
    "# parameters\n",
    "models = np.array([['IEM','EMST'],\n",
    "                   ['IEMHYB','EMSTHYB']])\n",
    "modeln = np.array([['IEM','EMST'],\n",
    "                   ['IEM-FI','EMST-FI']])\n",
    "\n",
    "params = {}\n",
    "params['MIX'] = None\n",
    "params['tres'] = 1.e-2\n",
    "params['tmix'] = 0.2\n",
    "params['eqv'] = 1.0\n",
    "params['Zfvar'] = 0.1\n",
    "params['dtmix'] = 0.01\n",
    "params['phif'] = 4.76\n",
    "\n",
    "dst = '.'\n",
    "csv_name = 'ZCTR.csv'\n",
    "npts = 1000"
   ]
  },
  {
   "cell_type": "code",
   "execution_count": 34,
   "metadata": {},
   "outputs": [],
   "source": [
    "# plot\n",
    "# figure and axes parameters\n",
    "# total width is fixed, for one column plot\n",
    "plot_width    = 14.4\n",
    "margin_left   = 1.5\n",
    "margin_right  = 0.2\n",
    "margin_bottom = 0.8\n",
    "margin_top    = 0.2\n",
    "space_width   = 1.5\n",
    "space_height  = 1.5\n",
    "ftsize        = 7\n",
    "\n",
    "font = {'family':'serif',\n",
    "        'weight':'normal',\n",
    "        'size':ftsize}\n",
    "\n",
    "# use TEX for interpreter\n",
    "plt.rc('text',usetex=True)\n",
    "# use serif font\n",
    "plt.rc('font',**font)\n",
    "\n",
    "num_rows, num_cols = models.shape\n",
    "\n",
    "subplot_width = (plot_width\n",
    "                -margin_left\n",
    "                -margin_right\n",
    "                -(num_cols-1)*space_width)/num_cols\n",
    "subplot_height = subplot_width * 0.5\n",
    "\n",
    "plot_height = (num_rows*subplot_height\n",
    "              +margin_bottom\n",
    "              +margin_top\n",
    "              +(num_rows-1)*space_height)"
   ]
  },
  {
   "cell_type": "code",
   "execution_count": 4,
   "metadata": {},
   "outputs": [],
   "source": [
    "# load data\n",
    "scatter = {}\n",
    "\n",
    "for i in range(num_rows):\n",
    "    for j in range(num_cols):\n",
    "        params['MIX'] = models[i, j]\n",
    "        case = params2name(params)\n",
    "        file_name = '/'.join([case,csv_name])\n",
    "        \n",
    "        data = np.genfromtxt(file_name,\n",
    "                             delimiter=',',\n",
    "                             names=True)\n",
    "        \n",
    "        scatter[params['MIX']] = np.column_stack((data['Z'][-npts:], data['C'][-npts:]))"
   ]
  },
  {
   "cell_type": "code",
   "execution_count": 37,
   "metadata": {},
   "outputs": [
    {
     "data": {
      "image/png": "[encoded data removed]",
      "text/plain": [
       "<Figure size 408.189x229.606 with 4 Axes>"
      ]
     },
     "metadata": {},
     "output_type": "display_data"
    }
   ],
   "source": [
    "fig, ax = plt.subplots(\n",
    "    num_rows,num_cols,\n",
    "    sharex=True,sharey=True,\n",
    "    figsize=cm2inch(plot_width,plot_height))\n",
    "\n",
    "for i in range(num_rows):\n",
    "    for j in range(num_cols):\n",
    "        ax[i,j].scatter(\n",
    "            scatter[models[i,j]][:,0],scatter[models[i,j]][:,1],\n",
    "            s=4,marker='.')\n",
    "        ax[i,j].text(0.25,0.25,modeln[i,j])\n",
    "        \n",
    "ax[0, 0].set_xlim([0, 0.4])\n",
    "ax[0, 0].set_ylim([0, 0.3])\n",
    "ax[0, 0].set_xticks(np.arange(0,0.5,0.1))\n",
    "\n",
    "fig.subplots_adjust(left = margin_left/plot_width,\n",
    "                    bottom = margin_bottom/plot_height,\n",
    "                    right = 1.0-margin_right/plot_width,\n",
    "                    top = 1.0-margin_top/plot_height,\n",
    "                    wspace = space_width/plot_width,\n",
    "                    hspace = space_height/plot_height\n",
    "                   )\n",
    "\n",
    "for j in range(num_cols):\n",
    "    ax[-1,j].set_xlabel('$Z$')\n",
    "    #ax[0,j].tick_params('x',length=0)\n",
    "for j in range(num_rows):\n",
    "    ax[j,0].set_ylabel('$c$')\n",
    "    #ax[j,-1].tick_params('y',length=0)"
   ]
  },
  {
   "cell_type": "code",
   "execution_count": 38,
   "metadata": {},
   "outputs": [],
   "source": [
    "plot_params = copy.deepcopy(params)\n",
    "del plot_params['MIX']\n",
    "del plot_params['tres']\n",
    "del plot_params['dtmix']\n",
    "del plot_params['phif']\n",
    "del plot_params['Zfvar']\n",
    "plot_name = params2name(plot_params)\n",
    "\n",
    "fig.savefig('{}/fig_zc_scatter_{}.pdf'.format(dst,plot_name))"
   ]
  }
 ],
 "metadata": {
  "kernelspec": {
   "display_name": "Python 3",
   "language": "python",
   "name": "python3"
  },
  "language_info": {
   "codemirror_mode": {
    "name": "ipython",
    "version": 3
   },
   "file_extension": ".py",
   "mimetype": "text/x-python",
   "name": "python",
   "nbconvert_exporter": "python",
   "pygments_lexer": "ipython3",
   "version": "3.6.4"
  }
 },
 "nbformat": 4,
 "nbformat_minor": 2
}
