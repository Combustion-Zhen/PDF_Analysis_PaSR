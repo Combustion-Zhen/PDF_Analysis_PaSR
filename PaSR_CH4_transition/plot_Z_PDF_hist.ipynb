{
 "cells": [
  {
   "cell_type": "markdown",
   "metadata": {},
   "source": [
    "# plot pdf of Z, obtained with np.hist"
   ]
  },
  {
   "cell_type": "code",
   "execution_count": 1,
   "metadata": {},
   "outputs": [],
   "source": [
    "import copy\n",
    "import numpy as np\n",
    "import matplotlib.pyplot as plt\n",
    "from counterflow_file import *"
   ]
  },
  {
   "cell_type": "code",
   "execution_count": 2,
   "metadata": {},
   "outputs": [],
   "source": [
    "# parameters\n",
    "models = ['IEM','IEMHYB','EMST','EMSTHYB']\n",
    "modeln = ['IEM','IEM-FI','EMST','EMST-FI']\n",
    "params = {}\n",
    "params['MIX'] = None\n",
    "params['tres'] = 1.e-2\n",
    "params['tmix'] = 0.4\n",
    "params['eqv'] = 1.0\n",
    "params['Zfvar'] = 0.1\n",
    "params['dtmix'] = 0.01\n",
    "params['phif'] = 4.76\n",
    "\n",
    "csv_name = 'ZCTR.csv'\n",
    "\n",
    "npts = 100\n",
    "z_lb = 0\n",
    "z_ub = 0.21"
   ]
  },
  {
   "cell_type": "code",
   "execution_count": 3,
   "metadata": {},
   "outputs": [],
   "source": [
    "pdfs = np.empty([npts, len(models)])\n",
    "for i, model in enumerate(models):\n",
    "    params['MIX'] = model\n",
    "    case_name = params2name(params)\n",
    "    \n",
    "    data = np.genfromtxt('/'.join([case_name,csv_name]),\n",
    "                         delimiter=',',\n",
    "                         names=True)\n",
    "    \n",
    "    hist, bins = np.histogram(data['Z'], \n",
    "                              bins=npts, \n",
    "                              range=(z_lb, z_ub), \n",
    "                              weights=data['R'], \n",
    "                              density=True\n",
    "                             )\n",
    "    pdfs[:,i] = hist"
   ]
  },
  {
   "cell_type": "code",
   "execution_count": 4,
   "metadata": {},
   "outputs": [],
   "source": [
    "# figure and axes parameters\n",
    "# total width is fixed, for one column plot\n",
    "plot_width    = 6.7\n",
    "margin_left   = 1.3\n",
    "margin_right  = 0.2\n",
    "margin_bottom = 1.0\n",
    "margin_top    = 0.1\n",
    "space_width   = 3.5\n",
    "space_height  = 0.5\n",
    "ftsize        = 7\n",
    "\n",
    "font = {'family':'serif',\n",
    "        'weight':'normal',\n",
    "        'size':ftsize}\n",
    "\n",
    "# use TEX for interpreter\n",
    "plt.rc('text',usetex=True)\n",
    "# use serif font\n",
    "plt.rc('font',**font)\n",
    "\n",
    "num_cols = 1\n",
    "num_rows = 1\n",
    "\n",
    "colors = ['tab:orange','tab:blue','tab:green','tab:red']\n",
    "lines = [':','-','-.','--']\n",
    "\n",
    "subplot_width = (plot_width\n",
    "                -margin_left\n",
    "                -margin_right\n",
    "                -(num_cols-1)*space_width)/num_cols\n",
    "subplot_height = subplot_width * 0.8\n",
    "\n",
    "plot_height = (num_rows*subplot_height\n",
    "              +margin_bottom\n",
    "              +margin_top\n",
    "              +(num_rows-1)*space_height)"
   ]
  },
  {
   "cell_type": "code",
   "execution_count": 5,
   "metadata": {},
   "outputs": [
    {
     "data": {
      "text/plain": [
       "[<matplotlib.axis.YTick at 0x7f8f316a7588>,\n",
       " <matplotlib.axis.YTick at 0x7f8f316dee10>,\n",
       " <matplotlib.axis.YTick at 0x7f8f316d5dd8>,\n",
       " <matplotlib.axis.YTick at 0x7f8f0cc88278>,\n",
       " <matplotlib.axis.YTick at 0x7f8f0cc88748>]"
      ]
     },
     "execution_count": 5,
     "metadata": {},
     "output_type": "execute_result"
    },
    {
     "data": {
      "image/png": "[encoded data removed]",
      "text/plain": [
       "<Figure size 189.921x149.102 with 2 Axes>"
      ]
     },
     "metadata": {},
     "output_type": "display_data"
    }
   ],
   "source": [
    "z = (bins[1:]+bins[:-1])/2\n",
    "\n",
    "# plot against tmix\n",
    "fig, ax = plt.subplots(num_rows,num_cols,sharex=True,\n",
    "                       figsize=cm2inch(plot_width,plot_height))\n",
    "\n",
    "for i, model in enumerate(models):\n",
    "    ax.plot(z, pdfs[:,i],\n",
    "            c = colors[i], ls = lines[i], lw = 1.,\n",
    "            label=modeln[i])\n",
    "    \n",
    "# legend\n",
    "ax.legend(frameon=False)\n",
    "\n",
    "# limits\n",
    "ax.set_xlim([0, 0.21])\n",
    "ax.set_ylim([0, 65])\n",
    "\n",
    "# labels\n",
    "ax.set_xlabel(r'$Z$')\n",
    "ax.set_ylabel(r'$\\langle\\tilde{f}_Z\\rangle$')\n",
    "\n",
    "# notes\n",
    "ax.text(\n",
    "        0.03,53,\n",
    "        ''.join([\n",
    "            r'$\\tau_{\\mathrm{res}}\\,=\\,$',\n",
    "            '{:g}'.format(params['tres']),\n",
    "            '$\\;\\mathrm{s}$',\n",
    "            '\\n',\n",
    "            r'$\\tau_{\\mathrm{mix}}\\!=\\,$',\n",
    "            '{:g}'.format(params['tres']*params['tmix']*1000),\n",
    "            '$\\;\\mathrm{ms}$']))\n",
    "\n",
    "fig.subplots_adjust(left = margin_left/plot_width,\n",
    "                    bottom = margin_bottom/plot_height,\n",
    "                    right = 1.0-margin_right/plot_width,\n",
    "                    top = 1.0-margin_top/plot_height,\n",
    "                    wspace = space_width/plot_width,\n",
    "                    hspace = space_height/plot_height\n",
    "                    )\n",
    "\n",
    "axs = fig.add_axes([0.57, 0.32, 0.35, 0.33])\n",
    "for i, model in enumerate(models[2:]):\n",
    "    j = i + 2\n",
    "    axs.plot(z, pdfs[:,j],\n",
    "            c = colors[j], ls = lines[j], lw = 1.,\n",
    "            label=modeln[j])\n",
    "\n",
    "axs.set_xlim([0,0.1])\n",
    "axs.set_ylim([0,8])\n",
    "axs.set_yticks(np.arange(0,9,2))"
   ]
  },
  {
   "cell_type": "code",
   "execution_count": 6,
   "metadata": {},
   "outputs": [],
   "source": [
    "\n",
    "\n",
    "\n",
    "plot_params = copy.deepcopy(params)\n",
    "del plot_params['MIX']\n",
    "del plot_params['tres']\n",
    "del plot_params['dtmix']\n",
    "del plot_params['phif']\n",
    "del plot_params['Zfvar']\n",
    "plot_name = params2name(plot_params)\n",
    "\n",
    "fig.savefig('fig_pdf_z_hist_{}.pdf'.format(plot_name))\n",
    "fig.savefig('fig_pdf_z_hist_{}.eps'.format(plot_name))"
   ]
  }
 ],
 "metadata": {
  "kernelspec": {
   "display_name": "Python 3",
   "language": "python",
   "name": "python3"
  },
  "language_info": {
   "codemirror_mode": {
    "name": "ipython",
    "version": 3
   },
   "file_extension": ".py",
   "mimetype": "text/x-python",
   "name": "python",
   "nbconvert_exporter": "python",
   "pygments_lexer": "ipython3",
   "version": "3.6.4"
  }
 },
 "nbformat": 4,
 "nbformat_minor": 2
}
