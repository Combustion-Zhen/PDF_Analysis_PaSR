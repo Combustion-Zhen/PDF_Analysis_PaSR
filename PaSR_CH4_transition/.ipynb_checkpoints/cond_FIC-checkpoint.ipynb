{
 "cells": [
  {
   "cell_type": "markdown",
   "metadata": {},
   "source": [
    "\"\"\"\n",
    "Zhen Lu 2018/04/23\n",
    "plot the averaged flame index and mixing rate of PaSR results\n",
    "\"\"\""
   ]
  },
  {
   "cell_type": "code",
   "execution_count": 2,
   "metadata": {},
   "outputs": [],
   "source": [
    "import numpy as np\n",
    "import pandas as pd\n",
    "from counterflow_file import *\n",
    "\n",
    "def weighted_avg_and_var(values, weights):\n",
    "    \"\"\"\n",
    "    Return the weighted average and standard deviation.\n",
    "\n",
    "    values, weights -- Numpy ndarrays with the same shape.\n",
    "    \"\"\"\n",
    "    average = np.average(values, weights=weights)\n",
    "    # Fast and numerically precise:\n",
    "    variance = np.average((values-average)**2, weights=weights)\n",
    "    return {'avg':average, 'var':variance}"
   ]
  },
  {
   "cell_type": "code",
   "execution_count": 2,
   "metadata": {},
   "outputs": [],
   "source": [
    "models = np.array(['IEM','EMST','IEMHYB','EMSTHYB'])\n",
    "\n",
    "time_res = [1.e-2,]\n",
    "mix_res_ratio = [0.02, 0.035, 0.06, 0.1, 0.15, 0.2, 0.3, 0.4, 0.5]\n",
    "equiv_ratio_f = [4.76,]\n",
    "equiv_ratio = [1.2,]\n",
    "Zf_variance = [0.1,]\n",
    "dtmix = [0.01,]\n",
    "\n",
    "params = {}\n",
    "params['MIX'] = None\n",
    "params['tres'] = 1.e-2\n",
    "params['tmix'] = None\n",
    "params['eqv'] = 1.2\n",
    "params['Zfvar'] = 0.1\n",
    "params['dtmix'] = 0.01\n",
    "params['phif'] = 4.76"
   ]
  },
  {
   "cell_type": "code",
   "execution_count": 9,
   "metadata": {},
   "outputs": [
    {
     "data": {
      "text/plain": [
       "array([0.        , 0.004     , 0.008     , 0.012     , 0.016     ,\n",
       "       0.02      , 0.02282778, 0.02560818, 0.02837281, 0.03112178,\n",
       "       0.03385525, 0.03657334, 0.03927618, 0.04196389, 0.04463661,\n",
       "       0.04729446, 0.04993756, 0.05518   , 0.06036491, 0.06549322,\n",
       "       0.07056585, 0.07558372, 0.08054769, 0.08545864, 0.0903174 ,\n",
       "       0.09512481, 0.09988168, 0.10458879, 0.10924693, 0.11385686,\n",
       "       0.11841931, 0.12293502, 0.12293502, 0.12793502, 0.13293502,\n",
       "       0.13793502, 0.14293502, 0.14793502, 0.15293502, 0.15793502,\n",
       "       0.16293502, 0.16793502, 0.17293502, 0.17793502, 0.18293502,\n",
       "       0.18793502, 0.19293502, 0.19793502, 0.20293502, 0.20793502,\n",
       "       0.21293502, 0.21793502, 0.22293502, 0.22793502, 0.23293502,\n",
       "       0.23793502, 0.24293502, 0.24793502, 0.25293502, 0.25793502,\n",
       "       0.26293502, 0.26793502, 0.27293502, 0.27793502, 0.28293502,\n",
       "       0.28793502, 0.29293502, 0.29793502, 0.30293502, 0.30793502,\n",
       "       0.31293502, 0.31793502, 0.32293502, 0.32793502, 0.33293502,\n",
       "       0.33793502, 0.34293502, 0.34793502, 0.35293502, 0.35793502,\n",
       "       0.36293502, 0.36793502, 0.37293502, 0.37793502, 0.38293502,\n",
       "       0.38793502, 0.39293502, 0.39793502, 0.40293502, 0.40793502,\n",
       "       0.41293502, 0.41793502, 0.42293502, 0.42793502, 0.43293502,\n",
       "       0.43793502, 0.44293502, 0.44793502, 0.45293502, 0.45793502,\n",
       "       0.46293502, 0.46793502, 0.47293502, 0.47793502, 0.48293502,\n",
       "       0.48793502, 0.49293502, 0.49793502, 0.50293502, 0.50793502,\n",
       "       0.51293502, 0.51793502, 0.52293502, 0.52793502, 0.53293502,\n",
       "       0.53793502, 0.54293502, 0.54793502, 0.55293502, 0.55793502,\n",
       "       0.56293502, 0.56793502, 0.57293502, 0.57793502, 0.58293502,\n",
       "       0.58793502, 0.59293502, 0.59793502, 0.60293502, 0.60793502,\n",
       "       0.61293502, 0.61793502, 0.62293502, 0.62793502, 0.63293502,\n",
       "       0.63793502, 0.64293502, 0.64793502, 0.65293502, 0.65793502,\n",
       "       0.66293502, 0.66793502, 0.67293502, 0.67793502, 0.68293502,\n",
       "       0.68793502, 0.69293502, 0.69793502, 0.70293502, 0.70793502,\n",
       "       0.71293502, 0.71793502, 0.72293502, 0.72793502, 0.73293502,\n",
       "       0.73793502, 0.74293502, 0.74793502, 0.75293502, 0.75793502,\n",
       "       0.76293502, 0.76793502, 0.77293502, 0.77793502, 0.78293502,\n",
       "       0.78793502, 0.79293502, 0.79793502, 0.80293502, 0.80793502,\n",
       "       0.81293502, 0.81793502, 0.82293502, 0.82793502, 0.83293502,\n",
       "       0.83793502, 0.84293502, 0.84793502, 0.85293502, 0.85793502,\n",
       "       0.86293502, 0.86793502, 0.87293502, 0.87793502, 0.88293502,\n",
       "       0.88793502, 0.89293502, 0.89793502, 0.90293502, 0.90793502,\n",
       "       0.91293502, 0.91793502, 0.92293502, 0.92793502, 0.93293502,\n",
       "       0.93793502, 0.94293502, 0.94793502, 0.95293502, 0.95793502,\n",
       "       0.96293502, 0.96793502, 0.97293502, 0.97793502, 0.98293502,\n",
       "       0.98793502, 0.99293502, 0.99793502, 1.        ])"
      ]
     },
     "execution_count": 9,
     "metadata": {},
     "output_type": "execute_result"
    }
   ],
   "source": [
    "Z_f = np.genfromtxt('template/flame_Z.dat',skip_header=1,usecols=(0,))\n",
    "Z_lb = np.arange(0,Z_f.min(),0.004)\n",
    "Z_ub = np.arange(Z_f.max(),1,0.005)\n",
    "Z_bins = np.concatenate((Z_lb,Z_f,Z_ub,[1,]))\n",
    "\n",
    "Z_mid = (Z_bins[1:]+Z_bins[:-1])/2\n",
    "df = pd.DataFrame(Z_mid,index=np.arange(1,num_bins+1),columns=['Z',])\n",
    "\n",
    "num_bins = len(Z_mid)"
   ]
  },
  {
   "cell_type": "code",
   "execution_count": 3,
   "metadata": {},
   "outputs": [],
   "source": [
    "# obtain data\n",
    "for i, tmix_ratio in enumerate(mix_res_ratio):\n",
    "    params['tmix'] = tmix_ratio\n",
    "    for j, model in enumerate(models):\n",
    "        params['MIX'] = model\n",
    "        \n",
    "        case = params2name(params)\n",
    "        \n",
    "        # fifull.op, containing time, flameindex, Z, c, rho\n",
    "        file_name = '/'.join([case,'fifull.op'])\n",
    "        data = np.genfromtxt(file_name)\n",
    "        \n",
    "        data = data[data[:,2]>=0,:]\n",
    "        data = data[data[:,2]<=1,:]\n",
    "        \n",
    "        data[:,0] = np.digitize(data[:,2],Z_bins)\n",
    "        \n",
    "        df_tmp = pd.DataFrame(data,columns=list('BFZCR'))\n",
    "        # conditioning on Z\n",
    "        df_tmp = df_tmp.groupby('B')\n",
    "        \n",
    "        # statics for FI and c\n",
    "        for var in list('FC'):\n",
    "            data_tmp = df_tmp.apply(lambda x: weighted_avg_and_var(x['F'],x['R']))\n",
    "            \n",
    "            for statics in ['avg','var']:\n",
    "                s_tmp = np.array([x[statics] for x in data_tmp.values])\n",
    "                data_name = '{0}-{1}-{2}-{3:g}'.format(var,statics,model,tmix_ratio)\n",
    "                df_new = pd.DataFrame(s_tmp,index=data_tmp.index,columns=[data_name,])\n",
    "            \n",
    "                df = df.combine_first(df_new)"
   ]
  },
  {
   "cell_type": "code",
   "execution_count": 9,
   "metadata": {},
   "outputs": [],
   "source": [
    "df.index.name = 'B'\n",
    "df.to_csv('cond_FIC.csv')"
   ]
  }
 ],
 "metadata": {
  "kernelspec": {
   "display_name": "Python 3",
   "language": "python",
   "name": "python3"
  },
  "language_info": {
   "codemirror_mode": {
    "name": "ipython",
    "version": 3
   },
   "file_extension": ".py",
   "mimetype": "text/x-python",
   "name": "python",
   "nbconvert_exporter": "python",
   "pygments_lexer": "ipython3",
   "version": "3.6.4"
  }
 },
 "nbformat": 4,
 "nbformat_minor": 2
}
