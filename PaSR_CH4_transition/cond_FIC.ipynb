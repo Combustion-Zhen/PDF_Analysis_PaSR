{
 "cells": [
  {
   "cell_type": "markdown",
   "metadata": {},
   "source": [
    "\"\"\"\n",
    "Zhen Lu 2018/04/23\n",
    "plot the averaged flame index and mixing rate of PaSR results\n",
    "\"\"\""
   ]
  },
  {
   "cell_type": "code",
   "execution_count": 2,
   "metadata": {},
   "outputs": [],
   "source": [
    "import numpy as np\n",
    "import pandas as pd\n",
    "from counterflow_file import *\n",
    "\n",
    "def weighted_avg_and_var(values, weights):\n",
    "    \"\"\"\n",
    "    Return the weighted average and standard deviation.\n",
    "\n",
    "    values, weights -- Numpy ndarrays with the same shape.\n",
    "    \"\"\"\n",
    "    average = np.average(values, weights=weights)\n",
    "    # Fast and numerically precise:\n",
    "    variance = np.average((values-average)**2, weights=weights)\n",
    "    return {'avg':average, 'var':variance}"
   ]
  },
  {
   "cell_type": "code",
   "execution_count": 2,
   "metadata": {},
   "outputs": [],
   "source": [
    "models = np.array(['IEM','EMST','IEMHYB','EMSTHYB'])\n",
    "\n",
    "time_res = [1.e-2,]\n",
    "mix_res_ratio = [0.02, 0.035, 0.06, 0.1, 0.15, 0.2, 0.3, 0.4, 0.5]\n",
    "equiv_ratio_f = [4.76,]\n",
    "equiv_ratio = [1.2,]\n",
    "Zf_variance = [0.1,]\n",
    "dtmix = [0.01,]\n",
    "\n",
    "params = {}\n",
    "params['MIX'] = None\n",
    "params['tres'] = 1.e-2\n",
    "params['tmix'] = None\n",
    "params['eqv'] = 1.2\n",
    "params['Zfvar'] = 0.1\n",
    "params['dtmix'] = 0.01\n",
    "params['phif'] = 4.76"
   ]
  },
  {
   "cell_type": "code",
   "execution_count": 11,
   "metadata": {},
   "outputs": [],
   "source": [
    "Z_f = np.genfromtxt('template/flame_Z.dat',skip_header=1,usecols=(0,))\n",
    "Z_lb = np.arange(0,Z_f.min(),0.004)\n",
    "Z_ub = np.arange(Z_f.max(),1,0.005)\n",
    "Z_bins = np.concatenate((Z_lb,Z_f,Z_ub,[1,]))\n",
    "\n",
    "Z_mid = (Z_bins[1:]+Z_bins[:-1])/2\n",
    "num_bins = len(Z_mid)\n",
    "\n",
    "df = pd.DataFrame(Z_mid,index=np.arange(1,num_bins+1),columns=['Z',])"
   ]
  },
  {
   "cell_type": "code",
   "execution_count": 3,
   "metadata": {},
   "outputs": [],
   "source": [
    "# obtain data\n",
    "for i, tmix_ratio in enumerate(mix_res_ratio):\n",
    "    params['tmix'] = tmix_ratio\n",
    "    for j, model in enumerate(models):\n",
    "        params['MIX'] = model\n",
    "        \n",
    "        case = params2name(params)\n",
    "        \n",
    "        # fifull.op, containing time, flameindex, Z, c, rho\n",
    "        file_name = '/'.join([case,'fifull.op'])\n",
    "        data = np.genfromtxt(file_name)\n",
    "        \n",
    "        data = data[data[:,2]>=0,:]\n",
    "        data = data[data[:,2]<=1,:]\n",
    "        \n",
    "        data[:,0] = np.digitize(data[:,2],Z_bins)\n",
    "        \n",
    "        df_tmp = pd.DataFrame(data,columns=list('BFZCR'))\n",
    "        # conditioning on Z\n",
    "        df_tmp = df_tmp.groupby('B')\n",
    "        \n",
    "        # statics for FI and c\n",
    "        for var in list('FC'):\n",
    "            data_tmp = df_tmp.apply(lambda x: weighted_avg_and_var(x['F'],x['R']))\n",
    "            \n",
    "            for statics in ['avg','var']:\n",
    "                s_tmp = np.array([x[statics] for x in data_tmp.values])\n",
    "                data_name = '{0}-{1}-{2}-{3:g}'.format(var,statics,model,tmix_ratio)\n",
    "                df_new = pd.DataFrame(s_tmp,index=data_tmp.index,columns=[data_name,])\n",
    "            \n",
    "                df = df.combine_first(df_new)"
   ]
  },
  {
   "cell_type": "code",
   "execution_count": 9,
   "metadata": {},
   "outputs": [],
   "source": [
    "df.index.name = 'B'\n",
    "df.to_csv('cond_FIC.csv')"
   ]
  }
 ],
 "metadata": {
  "kernelspec": {
   "display_name": "Python 3",
   "language": "python",
   "name": "python3"
  },
  "language_info": {
   "codemirror_mode": {
    "name": "ipython",
    "version": 3
   },
   "file_extension": ".py",
   "mimetype": "text/x-python",
   "name": "python",
   "nbconvert_exporter": "python",
   "pygments_lexer": "ipython3",
   "version": "3.6.4"
  }
 },
 "nbformat": 4,
 "nbformat_minor": 2
}
