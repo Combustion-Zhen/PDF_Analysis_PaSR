{
 "cells": [
  {
   "cell_type": "code",
   "execution_count": 1,
   "metadata": {},
   "outputs": [],
   "source": [
    "# calculate the terms in governing equation\n",
    "# check the value of the diffusion fluxes"
   ]
  },
  {
   "cell_type": "code",
   "execution_count": 2,
   "metadata": {},
   "outputs": [],
   "source": [
    "import cantera as ct\n",
    "import numpy as np\n",
    "import matplotlib.pyplot as plt\n",
    "from counterflow_file import *"
   ]
  },
  {
   "cell_type": "code",
   "execution_count": 3,
   "metadata": {},
   "outputs": [],
   "source": [
    "flame_params = {}\n",
    "flame_params['F'] = 'CH4'\n",
    "flame_params['p'] = 1\n",
    "flame_params['a'] = 200\n",
    "flame_params['phif'] = 3.2\n",
    "flame_params['phio'] = 0\n",
    "flame_params['tf'] = 300\n",
    "flame_params['to'] = 300"
   ]
  },
  {
   "cell_type": "code",
   "execution_count": 4,
   "metadata": {},
   "outputs": [],
   "source": [
    "flame_name = params2name( flame_params )"
   ]
  },
  {
   "cell_type": "code",
   "execution_count": 23,
   "metadata": {},
   "outputs": [],
   "source": [
    "gas = ct.Solution('gri30.xml')"
   ]
  },
  {
   "cell_type": "code",
   "execution_count": 25,
   "metadata": {},
   "outputs": [
    {
     "name": "stdout",
     "output_type": "stream",
     "text": [
      "\n",
      "  gri30:\n",
      "\n",
      "       temperature             300  K\n",
      "          pressure          101325  Pa\n",
      "           density       0.0818891  kg/m^3\n",
      "  mean mol. weight         2.01588  amu\n",
      "\n",
      "                          1 kg            1 kmol\n",
      "                       -----------      ------------\n",
      "          enthalpy           26470        5.336e+04     J\n",
      "   internal energy     -1.2109e+06       -2.441e+06     J\n",
      "           entropy           64914        1.309e+05     J/K\n",
      "    Gibbs function     -1.9448e+07        -3.92e+07     J\n",
      " heat capacity c_p           14312        2.885e+04     J/K\n",
      " heat capacity c_v           10187        2.054e+04     J/K\n",
      "\n",
      "                           X                 Y          Chem. Pot. / RT\n",
      "                     -------------     ------------     ------------\n",
      "                H2              1                1         -15.7173\n",
      "     [  +52 minor]              0                0\n",
      "\n"
     ]
    }
   ],
   "source": [
    "gas()"
   ]
  },
  {
   "cell_type": "code",
   "execution_count": 26,
   "metadata": {},
   "outputs": [],
   "source": [
    "f = ct.CounterflowDiffusionFlame(gas, width=0.01)"
   ]
  },
  {
   "cell_type": "code",
   "execution_count": 29,
   "metadata": {},
   "outputs": [
    {
     "name": "stdout",
     "output_type": "stream",
     "text": [
      "Solution saved to file F-CH4_p-1_a-200_phif-3.2_phio-0_tf-300_to-300.xml as solution solution.\n"
     ]
    }
   ],
   "source": [
    "f.save('{}.xml'.format(flame_name))"
   ]
  },
  {
   "cell_type": "code",
   "execution_count": 30,
   "metadata": {},
   "outputs": [
    {
     "name": "stdout",
     "output_type": "stream",
     "text": [
      "Grid contains 6 points.\n",
      "Importing datasets:\n",
      "axial velocity   radial velocity   temperature   lambda   H2   H   O   O2   OH   H2O   HO2   H2O2   C   CH   CH2   CH2(S)   CH3   CH4   CO   CO2   HCO   CH2O   CH2OH   CH3O   CH3OH   C2H   C2H2   C2H3   C2H4   C2H5   C2H6   HCCO   CH2CO   HCCOH   N   NH   NH2   NH3   NNH   NO   NO2   N2O   HNO   CN   HCN   H2CN   HCNN   HCNO   HOCN   HNCO   NCO   N2   AR   C3H7   C3H8   CH2CHO   CH3CHO   "
     ]
    }
   ],
   "source": [
    "f.restore('{}.xml'.format(flame_name))"
   ]
  },
  {
   "cell_type": "code",
   "execution_count": null,
   "metadata": {},
   "outputs": [],
   "source": []
  },
  {
   "cell_type": "code",
   "execution_count": 40,
   "metadata": {},
   "outputs": [
    {
     "name": "stdout",
     "output_type": "stream",
     "text": [
      "Warning: Domain1D::restore: Got an array of length 57 when one of length 58 was expected. Tolerances for individual species may not be preserved.\n",
      "Warning: Domain1D::restore: Got an array of length 57 when one of length 58 was expected. Tolerances for individual species may not be preserved.\n",
      "Warning: Domain1D::restore: Got an array of length 57 when one of length 58 was expected. Tolerances for individual species may not be preserved.\n",
      "Warning: Domain1D::restore: Got an array of length 57 when one of length 58 was expected. Tolerances for individual species may not be preserved.\n",
      "Grid contains 276 points.\n",
      "Importing datasets:\n",
      "axial velocity   radial velocity   temperature   lambda   H2   H   O   O2   OH   H2O   HO2   H2O2   C   CH   CH2   CH2(S)   CH3   CH4   CO   CO2   HCO   CH2O   CH2OH   CH3O   CH3OH   C2H   C2H2   C2H3   C2H4   C2H5   C2H6   HCCO   CH2CO   HCCOH   N   NH   NH2   NH3   NNH   NO   NO2   N2O   HNO   CN   HCN   H2CN   HCNN   HCNO   HOCN   HNCO   NCO   N2   AR   C3H7   C3H8   CH2CHO   CH3CHO   "
     ]
    }
   ],
   "source": [
    "f.restore('{}.xml'.format(flame_name), loglevel=2)"
   ]
  },
  {
   "cell_type": "code",
   "execution_count": 8,
   "metadata": {},
   "outputs": [],
   "source": [
    "mass_fraction_gradient = np.gradient(f.Y, f.grid, axis = 1)\n",
    "mole_fraction_gradient = np.gradient(f.X, f.grid, axis = 1)\n",
    "T_gradient = np.gradient(f.T, f.grid)"
   ]
  },
  {
   "cell_type": "code",
   "execution_count": 9,
   "metadata": {},
   "outputs": [],
   "source": [
    "# convection term\n",
    "budget_convection = f.density*f.u*mass_fraction_gradient"
   ]
  },
  {
   "cell_type": "code",
   "execution_count": 10,
   "metadata": {},
   "outputs": [],
   "source": [
    "# reaction term\n",
    "budget_reaction = (f.net_production_rates.transpose()*gas.molecular_weights).transpose()"
   ]
  },
  {
   "cell_type": "code",
   "execution_count": 11,
   "metadata": {},
   "outputs": [],
   "source": [
    "# diffusion term\n",
    "flux_uncorrected = f.density*f.mix_diff_coeffs_mass*mass_fraction_gradient\n",
    "flux_sum = np.sum( flux_uncorrected, axis = 0)"
   ]
  },
  {
   "cell_type": "code",
   "execution_count": 12,
   "metadata": {},
   "outputs": [],
   "source": [
    "flux = flux_uncorrected - flux_sum*f.Y"
   ]
  },
  {
   "cell_type": "code",
   "execution_count": 13,
   "metadata": {},
   "outputs": [],
   "source": [
    "budget_diffusion = np.gradient(flux, f.grid, axis = 1)"
   ]
  },
  {
   "cell_type": "code",
   "execution_count": 14,
   "metadata": {},
   "outputs": [],
   "source": [
    "residual_continuity = (np.gradient(f.density_mass*f.u, f.grid)+2.*f.density_mass*f.V)/np.gradient(f.density_mass*f.u, f.grid)"
   ]
  },
  {
   "cell_type": "code",
   "execution_count": 15,
   "metadata": {},
   "outputs": [],
   "source": [
    "residual_species = (-budget_convection+budget_diffusion+budget_reaction)/budget_diffusion"
   ]
  },
  {
   "cell_type": "code",
   "execution_count": 16,
   "metadata": {},
   "outputs": [
    {
     "data": {
      "text/plain": [
       "array([ -2.54966387e+06,  -4.74450506e+00,   9.92918642e-01,\n",
       "         9.20997583e+03,   2.05967600e+03,   9.97893641e+02,\n",
       "         6.74417335e+02,   1.43177550e+02,  -1.00105385e+03,\n",
       "         8.69322019e+02,   5.51127519e+02,   4.75891806e+01,\n",
       "        -3.72603007e+02,   1.32919590e+02,   1.12805774e+02,\n",
       "        -5.64909591e+00,   2.86263921e+01,  -7.14549025e+00,\n",
       "         7.97962712e-01,   2.31778981e+00,  -4.95044085e+00,\n",
       "         9.62654934e-01,   1.57218608e+00,  -4.53290815e-01,\n",
       "         1.37414313e-02,   6.31559422e-02,   2.20914300e-01,\n",
       "         5.39653432e-02,   1.47626019e-01,   1.26656422e-01,\n",
       "         1.39068421e-01,   1.52830464e-01,   1.61260763e-01,\n",
       "         1.69496850e-01,   1.73141547e-01,   1.66245652e-01,\n",
       "         1.45491357e-01,   1.13786011e-01,   8.04877326e-02,\n",
       "         4.78613499e-02,   2.49694445e-02,   2.36051804e-02,\n",
       "         2.18025888e-02,   1.58975966e-02,   2.52370061e-02,\n",
       "         4.60527236e-02,   6.69457739e-02,   7.77658581e-02,\n",
       "         7.86639640e-02,   7.53763409e-02,   7.29167135e-02,\n",
       "         5.19785902e-02,   3.77908127e-02,   3.59167092e-02,\n",
       "         3.48481277e-02,   3.39405620e-02,   3.31615803e-02,\n",
       "         3.24783513e-02,   3.18609197e-02,   3.12838953e-02,\n",
       "         3.07270316e-02,   3.01753162e-02,   2.96188002e-02,\n",
       "         2.90518279e-02,   2.84722392e-02,   2.78803652e-02,\n",
       "         2.72781678e-02,   2.66684013e-02,   2.60539721e-02,\n",
       "         2.54371814e-02,   2.48190436e-02,   2.41984870e-02,\n",
       "         2.35716224e-02,   2.29309859e-02,   2.26892854e-02,\n",
       "         1.95378272e-02,   1.68962980e-02,   1.64996451e-02,\n",
       "         1.56879680e-02,   1.49628784e-02,   1.46681433e-02,\n",
       "         1.45277308e-02,   1.43842977e-02,   1.42373880e-02,\n",
       "         1.40870248e-02,   1.39328251e-02,   1.37744341e-02,\n",
       "         1.36122062e-02,   1.35264543e-02,   1.32962324e-02,\n",
       "         1.29783593e-02,   1.28548793e-02,   1.28954166e-02,\n",
       "         1.26296567e-02,   1.24449298e-02,   1.24578960e-02,\n",
       "         1.24140064e-02,   1.21771185e-02,   1.18557704e-02,\n",
       "         1.17304024e-02,   1.17910805e-02,   1.14848340e-02,\n",
       "         1.11886671e-02,   1.12206357e-02,   1.12325125e-02,\n",
       "         1.10373904e-02,   1.08512462e-02,   1.06428729e-02,\n",
       "         1.04658800e-02,   1.03693241e-02,   1.00430484e-02,\n",
       "         9.64840126e-03,   9.21099730e-03,   8.55562224e-03,\n",
       "         7.71036142e-03,   6.79504515e-03,   5.80022444e-03,\n",
       "         4.71434899e-03,   3.52300995e-03,   2.20812934e-03,\n",
       "         7.46699798e-04,  -8.90617167e-04,  -2.74205193e-03,\n",
       "        -4.85815454e-03,  -7.30684005e-03,  -1.01820730e-02,\n",
       "        -1.36175471e-02,  -1.78106568e-02,  -2.30662346e-02,\n",
       "        -2.98822181e-02,  -3.91338469e-02,  -5.25156800e-02,\n",
       "        -7.37967112e-02,  -1.13398838e-01,  -2.14662925e-01,\n",
       "        -1.07140428e+00,   4.06326070e-01,   1.78386499e-01,\n",
       "         1.16748714e-01,   8.77744641e-02,   7.07560663e-02,\n",
       "         5.94319415e-02,   5.12590371e-02,   4.50082728e-02,\n",
       "         4.00122954e-02,   3.58773307e-02,   3.23562876e-02,\n",
       "         2.92869020e-02,   2.65591257e-02,   2.40966821e-02,\n",
       "         2.18460127e-02,   1.97694682e-02,   1.77379533e-02,\n",
       "         1.48511247e-02,   9.10986255e-03,   7.46549680e-03,\n",
       "         5.93888810e-03,   4.47198611e-03,   2.96495694e-03,\n",
       "         1.28869315e-03,  -7.30462612e-04,  -3.23433535e-03,\n",
       "         3.55471478e-04,   2.84281273e-03,  -1.36123560e-02,\n",
       "        -1.18251739e-01,   1.60353888e-01,   8.54415111e-02,\n",
       "         7.08665877e-02,   6.55896511e-02,   6.32209116e-02,\n",
       "         6.18773129e-02,   6.07945982e-02,   5.98294338e-02,\n",
       "         6.02624788e-02,   6.16371094e-02,   6.10459661e-02,\n",
       "         6.02155882e-02,   5.93322560e-02,   5.83774842e-02,\n",
       "         5.73280083e-02,   5.61577078e-02,   5.48414056e-02,\n",
       "         5.33599285e-02,   5.17056418e-02,   4.98872409e-02,\n",
       "         4.79314819e-02,   4.58708019e-02,   4.37706609e-02,\n",
       "         4.15715766e-02,   3.99393701e-02,   3.99680875e-02,\n",
       "         3.95900804e-02,   3.86291300e-02,   3.76948793e-02,\n",
       "         3.67898497e-02,   3.59162522e-02,   3.50764094e-02,\n",
       "         3.42726968e-02,   3.37365535e-02,   3.48932400e-02,\n",
       "         3.58085567e-02,   3.54465942e-02,   3.65774113e-02,\n",
       "         3.83777788e-02,   4.10067903e-02,   4.45224038e-02,\n",
       "         3.08660172e-02,   2.63147802e-02,   2.78714382e-02,\n",
       "         2.85079990e-02,   4.49368458e-02,   7.09518962e-02,\n",
       "         7.73354543e-02,   8.44693492e-02,   8.94869187e-02,\n",
       "         9.11620518e-02,   8.89642725e-02,   8.35395795e-02,\n",
       "         7.64757486e-02,   6.93817170e-02,   6.32332725e-02,\n",
       "         5.82895345e-02,   5.41831975e-02,   5.03982971e-02,\n",
       "         4.69661909e-02,   4.38858521e-02,   4.08899573e-02,\n",
       "         3.85529170e-02,   3.33304870e-02,   3.27606729e-02,\n",
       "         2.71636207e-02,   2.51136615e-02,   2.16289509e-02,\n",
       "         2.31300825e-02,   2.17111838e-02,   1.28177346e-02,\n",
       "         1.40208150e-02,  -1.70991464e-02,   7.09251832e-02,\n",
       "         1.49446075e-02,   4.81090740e-02,   3.52821551e-02,\n",
       "         3.48067255e-02,   6.70426317e-02,   9.73903621e-03,\n",
       "         4.85846429e-02,   4.58996429e-02,  -3.93610793e-02,\n",
       "         1.42341350e-01,   1.70646648e-01,   7.72425838e-02,\n",
       "         2.92216765e-02,  -4.62996844e-01,   5.38617970e+00,\n",
       "        -1.63016154e+01,   5.32263268e+00,   5.53607646e+01,\n",
       "        -2.97618101e+02,  -2.74061207e+02,   1.11543270e+03,\n",
       "         2.28980912e+02,   5.27211860e+02,   7.53321335e+01,\n",
       "         8.08811060e+01,   2.25270798e+02,   1.77154821e+02,\n",
       "        -3.39026862e+01,  -6.14779904e+00,  -1.94573863e+03,\n",
       "        -3.92634170e+02,  -8.15901706e+01,   3.95748366e+03,\n",
       "        -1.99835036e+01,   1.08514758e+01,   3.89974934e+05])"
      ]
     },
     "execution_count": 16,
     "metadata": {},
     "output_type": "execute_result"
    }
   ],
   "source": [
    "residual_species[1]"
   ]
  },
  {
   "cell_type": "code",
   "execution_count": 17,
   "metadata": {},
   "outputs": [
    {
     "data": {
      "text/plain": [
       "[<matplotlib.lines.Line2D at 0x7f723e2117b8>,\n",
       " <matplotlib.lines.Line2D at 0x7f723e211a20>,\n",
       " <matplotlib.lines.Line2D at 0x7f723e21f1d0>]"
      ]
     },
     "execution_count": 17,
     "metadata": {},
     "output_type": "execute_result"
    },
    {
     "data": {
      "image/png": "[encoded data removed]",
      "text/plain": [
       "<Figure size 432x288 with 1 Axes>"
      ]
     },
     "metadata": {
      "needs_background": "light"
     },
     "output_type": "display_data"
    }
   ],
   "source": [
    "plt.plot(f.grid, -budget_convection[3], 'b-', f.grid, budget_diffusion[3], 'k--', f.grid, budget_reaction[3], 'r-.')"
   ]
  },
  {
   "cell_type": "code",
   "execution_count": 18,
   "metadata": {},
   "outputs": [],
   "source": [
    "species_transport = -budget_convection + budget_diffusion + budget_reaction"
   ]
  },
  {
   "cell_type": "code",
   "execution_count": 19,
   "metadata": {},
   "outputs": [
    {
     "data": {
      "text/plain": [
       "[<matplotlib.lines.Line2D at 0x7f723e1aa9b0>]"
      ]
     },
     "execution_count": 19,
     "metadata": {},
     "output_type": "execute_result"
    },
    {
     "data": {
      "image/png": "[encoded data removed]",
      "text/plain": [
       "<Figure size 432x288 with 1 Axes>"
      ]
     },
     "metadata": {
      "needs_background": "light"
     },
     "output_type": "display_data"
    }
   ],
   "source": [
    "plt.plot(f.grid, species_transport[3])"
   ]
  },
  {
   "cell_type": "code",
   "execution_count": 20,
   "metadata": {},
   "outputs": [
    {
     "data": {
      "text/plain": [
       "[<matplotlib.lines.Line2D at 0x7f723e1033c8>]"
      ]
     },
     "execution_count": 20,
     "metadata": {},
     "output_type": "execute_result"
    },
    {
     "data": {
      "image/png": "[encoded data removed]",
      "text/plain": [
       "<Figure size 432x288 with 1 Axes>"
      ]
     },
     "metadata": {
      "needs_background": "light"
     },
     "output_type": "display_data"
    }
   ],
   "source": [
    "plt.plot(f.grid, budget_diffusion[3])"
   ]
  },
  {
   "cell_type": "code",
   "execution_count": 22,
   "metadata": {},
   "outputs": [
    {
     "data": {
      "text/plain": [
       "[<matplotlib.lines.Line2D at 0x7f723e0b9438>]"
      ]
     },
     "execution_count": 22,
     "metadata": {},
     "output_type": "execute_result"
    },
    {
     "data": {
      "image/png": "[encoded data removed]",
      "text/plain": [
       "<Figure size 432x288 with 1 Axes>"
      ]
     },
     "metadata": {
      "needs_background": "light"
     },
     "output_type": "display_data"
    }
   ],
   "source": [
    "plt.plot(f.grid, budget_reaction[3])"
   ]
  }
 ],
 "metadata": {
  "kernelspec": {
   "display_name": "Python 3",
   "language": "python",
   "name": "python3"
  },
  "language_info": {
   "codemirror_mode": {
    "name": "ipython",
    "version": 3
   },
   "file_extension": ".py",
   "mimetype": "text/x-python",
   "name": "python",
   "nbconvert_exporter": "python",
   "pygments_lexer": "ipython3",
   "version": "3.6.6"
  }
 },
 "nbformat": 4,
 "nbformat_minor": 2
}
