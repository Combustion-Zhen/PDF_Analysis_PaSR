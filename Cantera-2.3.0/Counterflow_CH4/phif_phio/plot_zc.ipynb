{
 "cells": [
  {
   "cell_type": "code",
   "execution_count": 1,
   "metadata": {},
   "outputs": [],
   "source": [
    "import os\n",
    "import numpy as np\n",
    "import matplotlib as mpl\n",
    "import matplotlib.pyplot as plt\n",
    "from counterflow_file import *"
   ]
  },
  {
   "cell_type": "code",
   "execution_count": 2,
   "metadata": {},
   "outputs": [],
   "source": [
    "# run cases\n",
    "phif = [1.3, 1.5, 1.7, 2.3, 3.2, 4.8, 9.5]\n",
    "phio = [0.2, 0.4, 0.6]\n",
    "\n",
    "# parameters\n",
    "flame_params = {}\n",
    "flame_params['F'] = 'CH4'\n",
    "flame_params['p'] = 1.\n",
    "flame_params['a'] = 200.\n",
    "flame_params['phif'] = None\n",
    "flame_params['phio'] = None\n",
    "flame_params['tf'] = 300.\n",
    "flame_params['to'] = 300."
   ]
  },
  {
   "cell_type": "code",
   "execution_count": 3,
   "metadata": {},
   "outputs": [],
   "source": [
    "# plot\n",
    "# use TEX for interpreter\n",
    "plt.rc('text',usetex=True)\n",
    "# figure and axes parameters\n",
    "# total width is fixed, for one column plot\n",
    "plot_width    = 6.7\n",
    "margin_left   = 0.7\n",
    "margin_right  = 0.2\n",
    "margin_bottom = 0.5\n",
    "margin_top    = 0.1\n",
    "space_width   = 0.\n",
    "space_height  = 1.0\n",
    "ftsize        = 6\n",
    "\n",
    "nrow = 1\n",
    "ncol = 1\n",
    "\n",
    "subplot_width = (plot_width-margin_left-margin_right-(ncol-1)*space_width)/ncol\n",
    "subplot_height = subplot_width * 0.8\n",
    "\n",
    "plot_height = (nrow*subplot_height\n",
    "              +margin_bottom\n",
    "              +margin_top\n",
    "              +(nrow-1)*space_height)\n",
    "\n",
    "font = {'family':'serif',\n",
    "        'weight':'normal',\n",
    "        'size':ftsize}\n",
    "\n",
    "plt.rc('font',**font)"
   ]
  },
  {
   "cell_type": "code",
   "execution_count": 4,
   "metadata": {},
   "outputs": [
    {
     "data": {
      "image/png": "[encoded data removed]",
      "text/plain": [
       "<Figure size 189.921x148.535 with 1 Axes>"
      ]
     },
     "metadata": {},
     "output_type": "display_data"
    }
   ],
   "source": [
    "# generate figure and axes\n",
    "fig, ax = plt.subplots(nrow,ncol,sharey=True,\n",
    "                       figsize=cm2inch(plot_width,plot_height))\n",
    "\n",
    "for f in phif:\n",
    "    flame_params['phif'] = f\n",
    "    for o in phio:\n",
    "        flame_params['phio'] = o\n",
    "        \n",
    "        case_name = params2name( flame_params )\n",
    "        file_name = '{}.dat'.format( case_name )\n",
    "        \n",
    "        data = np.genfromtxt( file_name, skip_header = 3, names = True )\n",
    "        ax.plot( data['Z1'], data['C_4spe'], lw = 1 )"
   ]
  },
  {
   "cell_type": "code",
   "execution_count": 5,
   "metadata": {},
   "outputs": [],
   "source": [
    "fig.savefig('zc.pdf')"
   ]
  }
 ],
 "metadata": {
  "kernelspec": {
   "display_name": "Python 3",
   "language": "python",
   "name": "python3"
  },
  "language_info": {
   "codemirror_mode": {
    "name": "ipython",
    "version": 3
   },
   "file_extension": ".py",
   "mimetype": "text/x-python",
   "name": "python",
   "nbconvert_exporter": "python",
   "pygments_lexer": "ipython3",
   "version": "3.6.4"
  }
 },
 "nbformat": 4,
 "nbformat_minor": 2
}
